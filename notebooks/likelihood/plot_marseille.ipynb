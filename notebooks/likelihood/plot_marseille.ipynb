{
 "cells": [
  {
   "cell_type": "markdown",
   "metadata": {},
   "source": [
    "## Fit IGM nuisance parameters to eBOSS P1D, one z at a time"
   ]
  },
  {
   "cell_type": "code",
   "execution_count": 1,
   "metadata": {},
   "outputs": [],
   "source": [
    "%load_ext autoreload\n",
    "%autoreload 2\n",
    "\n",
    "import numpy as np\n",
    "import time, os, sys\n",
    "import matplotlib.pyplot as plt\n",
    "\n",
    "# our own modules\n",
    "from lace.emulator.emulator_manager import set_emulator\n",
    "from cup1d.p1ds import (\n",
    "    data_Chabanier2019,\n",
    "    data_Karacayli2022\n",
    ")\n",
    "from cup1d.likelihood import lya_theory, likelihood, emcee_sampler\n",
    "from cup1d.likelihood.sampler_pipeline import set_archive, set_P1D, set_P1D_hires, set_fid_cosmo, set_like\n",
    "from cup1d.likelihood.input_pipeline import Args"
   ]
  },
  {
   "cell_type": "code",
   "execution_count": 2,
   "metadata": {},
   "outputs": [],
   "source": [
    "# args = Args(emulator_label=\"Pedersen21\")\n",
    "args = Args(emulator_label=\"Pedersen23_ext8\", training_set=\"Cabayol23\")\n",
    "# args = Args(emulator_label=\"Cabayol23+\", training_set=\"Cabayol23\")\n",
    "# args = Args(emulator_label=\"Nyx_alphap\", training_set=\"Nyx23_Oct2023\")"
   ]
  },
  {
   "cell_type": "code",
   "execution_count": 3,
   "metadata": {},
   "outputs": [],
   "source": [
    "args.data_label = \"Chabanier19\"\n",
    "args.data_label_hires = \"Karacayli22\"\n",
    "args.add_hires = True\n",
    "args.add_metals = True\n",
    "# development\n",
    "args.n_igm=1\n",
    "args.n_steps=2000\n",
    "args.n_burn_in=400\n",
    "args.parallel=False\n",
    "args.explore=False"
   ]
  },
  {
   "cell_type": "code",
   "execution_count": 4,
   "metadata": {},
   "outputs": [
    {
     "name": "stdout",
     "output_type": "stream",
     "text": [
      "12 [2.2 2.4 2.6 2.8 3.  3.2 3.4 3.6 3.8 4.  4.2 4.4]\n"
     ]
    }
   ],
   "source": [
    "z_min=2.2\n",
    "z_max=4.4\n",
    "zs=np.arange(z_min,z_max+0.01,0.2)\n",
    "Nz=len(zs)\n",
    "print(Nz, zs)\n",
    "# how many zs to plot\n",
    "plot_every_iz=2"
   ]
  },
  {
   "cell_type": "markdown",
   "metadata": {},
   "source": [
    "### Set archive"
   ]
  },
  {
   "cell_type": "code",
   "execution_count": 5,
   "metadata": {},
   "outputs": [],
   "source": [
    "archive = set_archive(args.training_set)"
   ]
  },
  {
   "cell_type": "markdown",
   "metadata": {},
   "source": [
    "### Set emulator"
   ]
  },
  {
   "cell_type": "code",
   "execution_count": 6,
   "metadata": {},
   "outputs": [
    {
     "name": "stdout",
     "output_type": "stream",
     "text": [
      "Use custom archive provided by the user\n",
      "Select emulator in Pedersen23_ext8\n",
      "Gaussian Process emulator predicting the P1D, fitting coefficients to a 5th degree polynomial. It goes to scales of 8 Mpc^{-1} and z<=4.5. The parameters passed to the emulator will be overwritten to match these ones\n"
     ]
    },
    {
     "name": "stderr",
     "output_type": "stream",
     "text": [
      " /Users/afont/Codes/igmhub/LaCE/lace/emulator/gp_emulator.py:266: UserWarning:Enforce average=both in training of GP emulator\n",
      " /Users/afont/Codes/igmhub/LaCE/lace/emulator/gp_emulator.py:268: UserWarning:Enforce val_scalinge=1 in training of GP emulator\n"
     ]
    },
    {
     "name": "stdout",
     "output_type": "stream",
     "text": [
      "Training GP on 330 points\n",
      "GPs optimised in 0.18 seconds\n"
     ]
    },
    {
     "name": "stderr",
     "output_type": "stream",
     "text": [
      " /opt/miniconda3/envs/cup1d/lib/python3.11/site-packages/paramz/parameterized.py:61: RuntimeWarning:Don't forget to initialize by self.initialize_parameter()!\n"
     ]
    }
   ],
   "source": [
    "emulator = set_emulator(\n",
    "    emulator_label=args.emulator_label,\n",
    "    archive=archive,\n",
    ")"
   ]
  },
  {
   "cell_type": "markdown",
   "metadata": {},
   "source": [
    "### Set fiducial cosmology"
   ]
  },
  {
   "cell_type": "code",
   "execution_count": 7,
   "metadata": {},
   "outputs": [],
   "source": [
    "cosmo_fid = set_fid_cosmo(cosmo_label=args.cosmo_label)"
   ]
  },
  {
   "cell_type": "markdown",
   "metadata": {},
   "source": [
    "### Set likelihoods (one per redshift bin)"
   ]
  },
  {
   "cell_type": "code",
   "execution_count": 8,
   "metadata": {
    "tags": []
   },
   "outputs": [],
   "source": [
    "def get_onez_likelihood(z):\n",
    "    data, true_sim_igm = set_P1D(\n",
    "        archive,\n",
    "        emulator,\n",
    "        args.data_label,\n",
    "        cosmo_fid,\n",
    "        cov_label=args.cov_label,\n",
    "        apply_smoothing=False,\n",
    "        z_min=z-0.01,\n",
    "        z_max=z+0.01,\n",
    "    )\n",
    "\n",
    "    extra_data = set_P1D_hires(\n",
    "        archive,\n",
    "        emulator,\n",
    "        cosmo_fid,\n",
    "        args.data_label_hires,\n",
    "        args.cov_label_hires,\n",
    "        apply_smoothing=False,\n",
    "        z_min=z-0.01,\n",
    "        z_max=z+0.01,\n",
    "    )\n",
    "    \n",
    "    like = set_like(\n",
    "        emulator,\n",
    "        data,\n",
    "        extra_data,\n",
    "        true_sim_igm,\n",
    "        args.igm_label,\n",
    "        1,\n",
    "        cosmo_fid,\n",
    "        fix_cosmo=True,\n",
    "        add_metals=args.add_metals,\n",
    "    )\n",
    "    \n",
    "    return like"
   ]
  },
  {
   "cell_type": "code",
   "execution_count": 9,
   "metadata": {
    "tags": []
   },
   "outputs": [
    {
     "name": "stdout",
     "output_type": "stream",
     "text": [
      "Nz = 14 , Nk = 13\n",
      "Using 1 parameters for IGM model\n",
      "free parameters ['ln_tau_0', 'ln_sigT_kms_0', 'ln_gamma_0', 'ln_kF_0', 'ln_SiIII_0']\n",
      "metal tag ln_SiIII\n",
      "will not store truth, working with real data\n",
      "will not store truth, working with real data\n",
      "Nz = 14 , Nk = 13\n",
      "Using 1 parameters for IGM model\n",
      "free parameters ['ln_tau_0', 'ln_sigT_kms_0', 'ln_gamma_0', 'ln_kF_0', 'ln_SiIII_0']\n",
      "metal tag ln_SiIII\n",
      "will not store truth, working with real data\n",
      "will not store truth, working with real data\n",
      "Nz = 14 , Nk = 13\n",
      "Using 1 parameters for IGM model\n",
      "free parameters ['ln_tau_0', 'ln_sigT_kms_0', 'ln_gamma_0', 'ln_kF_0', 'ln_SiIII_0']\n",
      "metal tag ln_SiIII\n",
      "will not store truth, working with real data\n",
      "will not store truth, working with real data\n",
      "Nz = 14 , Nk = 13\n",
      "Using 1 parameters for IGM model\n",
      "free parameters ['ln_tau_0', 'ln_sigT_kms_0', 'ln_gamma_0', 'ln_kF_0', 'ln_SiIII_0']\n",
      "metal tag ln_SiIII\n",
      "will not store truth, working with real data\n",
      "will not store truth, working with real data\n",
      "Nz = 14 , Nk = 13\n",
      "Using 1 parameters for IGM model\n",
      "free parameters ['ln_tau_0', 'ln_sigT_kms_0', 'ln_gamma_0', 'ln_kF_0', 'ln_SiIII_0']\n",
      "metal tag ln_SiIII\n",
      "will not store truth, working with real data\n",
      "will not store truth, working with real data\n",
      "Nz = 14 , Nk = 13\n",
      "Using 1 parameters for IGM model\n",
      "free parameters ['ln_tau_0', 'ln_sigT_kms_0', 'ln_gamma_0', 'ln_kF_0', 'ln_SiIII_0']\n",
      "metal tag ln_SiIII\n",
      "will not store truth, working with real data\n",
      "will not store truth, working with real data\n",
      "Nz = 14 , Nk = 13\n",
      "Using 1 parameters for IGM model\n",
      "free parameters ['ln_tau_0', 'ln_sigT_kms_0', 'ln_gamma_0', 'ln_kF_0', 'ln_SiIII_0']\n",
      "metal tag ln_SiIII\n",
      "will not store truth, working with real data\n",
      "will not store truth, working with real data\n",
      "Nz = 14 , Nk = 13\n",
      "Using 1 parameters for IGM model\n",
      "free parameters ['ln_tau_0', 'ln_sigT_kms_0', 'ln_gamma_0', 'ln_kF_0', 'ln_SiIII_0']\n",
      "metal tag ln_SiIII\n",
      "will not store truth, working with real data\n",
      "will not store truth, working with real data\n",
      "Nz = 14 , Nk = 13\n",
      "Using 1 parameters for IGM model\n",
      "free parameters ['ln_tau_0', 'ln_sigT_kms_0', 'ln_gamma_0', 'ln_kF_0', 'ln_SiIII_0']\n",
      "metal tag ln_SiIII\n",
      "will not store truth, working with real data\n",
      "will not store truth, working with real data\n",
      "Nz = 14 , Nk = 13\n",
      "Using 1 parameters for IGM model\n",
      "free parameters ['ln_tau_0', 'ln_sigT_kms_0', 'ln_gamma_0', 'ln_kF_0', 'ln_SiIII_0']\n",
      "metal tag ln_SiIII\n",
      "will not store truth, working with real data\n",
      "will not store truth, working with real data\n",
      "Nz = 14 , Nk = 13\n",
      "Using 1 parameters for IGM model\n",
      "free parameters ['ln_tau_0', 'ln_sigT_kms_0', 'ln_gamma_0', 'ln_kF_0', 'ln_SiIII_0']\n",
      "metal tag ln_SiIII\n",
      "will not store truth, working with real data\n",
      "will not store truth, working with real data\n",
      "Nz = 14 , Nk = 13\n",
      "Using 1 parameters for IGM model\n",
      "free parameters ['ln_tau_0', 'ln_sigT_kms_0', 'ln_gamma_0', 'ln_kF_0', 'ln_SiIII_0']\n",
      "metal tag ln_SiIII\n",
      "will not store truth, working with real data\n",
      "will not store truth, working with real data\n"
     ]
    }
   ],
   "source": [
    "allz_runs=[]\n",
    "for iz,z in enumerate(zs):\n",
    "    like = get_onez_likelihood(z)\n",
    "    onez_run={'z':z, 'like':like}\n",
    "    allz_runs.append(onez_run)"
   ]
  },
  {
   "cell_type": "code",
   "execution_count": 10,
   "metadata": {},
   "outputs": [],
   "source": [
    "if False:\n",
    "#for iz in range(Nz):\n",
    "    plt.figure()\n",
    "    allz_runs[iz]['like'].plot_p1d(residuals=False)\n",
    "    allz_runs[iz]['like'].extra_p1d_like.plot_p1d(residuals=False)\n",
    "    plt.xscale('log')"
   ]
  },
  {
   "cell_type": "code",
   "execution_count": 11,
   "metadata": {},
   "outputs": [],
   "source": [
    "def fit_onez_likelihood(like, initial_values=None, run_sampler=False):\n",
    "    def log_prob(theta):\n",
    "        return log_prob.sampler.like.log_prob_and_blobs(theta)\n",
    "\n",
    "    def set_log_prob(sampler):\n",
    "        log_prob.sampler = sampler\n",
    "        return log_prob\n",
    "\n",
    "    sampler = emcee_sampler.EmceeSampler(\n",
    "        like=like,\n",
    "        rootdir=\".\",\n",
    "        save_chain=False,\n",
    "        nburnin=args.n_burn_in,\n",
    "        nsteps=args.n_steps,\n",
    "        parallel=args.parallel,\n",
    "        explore=args.explore,\n",
    "        fix_cosmology=args.fix_cosmo,\n",
    "    )\n",
    "    _log_prob = set_log_prob(sampler)\n",
    "\n",
    "    if run_sampler:\n",
    "        _emcee_sam = sampler.run_sampler(log_func=_log_prob)\n",
    "        ind = np.argmax(sampler.lnprob.reshape(-1))\n",
    "        nparam = sampler.chain.shape[-1]\n",
    "        initial_values = sampler.chain.reshape(-1, nparam)[ind, :]\n",
    "        print('MLE from chain will be initial value in minimizer',initial_values)\n",
    "\n",
    "    npar=len(like.free_params)\n",
    "    if initial_values is None:\n",
    "        initial_values=0.5*np.ones(npar)\n",
    "    else:\n",
    "        print('starting from point',initial_values)\n",
    "    sampler.run_minimizer(log_func=_log_prob,p0=initial_values)\n",
    "    \n",
    "    return sampler"
   ]
  },
  {
   "cell_type": "code",
   "execution_count": null,
   "metadata": {
    "tags": []
   },
   "outputs": [
    {
     "name": "stdout",
     "output_type": "stream",
     "text": [
      "Created directory: ./chain_74\n",
      "setup with  1  ranks,  201  walkers, and  2000  steps\n",
      "combined steps  482400 (should be close to  480000 )\n",
      "set 201 walkers with 5 dimensions\n"
     ]
    },
    {
     "name": "stderr",
     "output_type": "stream",
     "text": [
      " /Users/afont/Codes/igmhub/LaCE/lace/emulator/gp_emulator.py:550: UserWarning:Some of the requested k's are lower than the minimum training value k=0.09308422677303091\n"
     ]
    },
    {
     "name": "stdout",
     "output_type": "stream",
     "text": [
      "Step 500 out of 2400 \n",
      "Step 600 out of 2400 \n",
      "Step 700 out of 2400 \n",
      "Step 800 out of 2400 \n",
      "Step 900 out of 2400 \n",
      "Step 1000 out of 2400 \n",
      "Step 1100 out of 2400 \n",
      "Step 1200 out of 2400 \n"
     ]
    }
   ],
   "source": [
    "# turn this on to use the best-fit from the previous z-bin as a starting point\n",
    "recycle_best_fit=False\n",
    "run_sampler=True\n",
    "for iz in range(Nz):\n",
    "    if recycle_best_fit and iz>0:\n",
    "        initial_values=allz_runs[iz-1]['best_fit_values']\n",
    "        print(initial_values)\n",
    "    else:\n",
    "        initial_values=None\n",
    "    sampler = fit_onez_likelihood(allz_runs[iz]['like'],\n",
    "                                  initial_values=initial_values,run_sampler=run_sampler)\n",
    "    allz_runs[iz]['sampler']=sampler\n",
    "    # store chi2 and Ndof\n",
    "    allz_runs[iz]['best_fit_values']=sampler.mle_cube\n",
    "    npar=len(allz_runs[iz]['best_fit_values'])\n",
    "    # eBOSS chi2 / Nk\n",
    "    allz_runs[iz]['eB_chi2']=sampler.like.get_chi2(values=allz_runs[iz]['best_fit_values'])\n",
    "    allz_runs[iz]['eB_Nk']=len(sampler.like.data.k_kms[0])\n",
    "    # eBOSS chi2 / Nk\n",
    "    allz_runs[iz]['hr_chi2']=sampler.like.extra_p1d_like.get_chi2(values=allz_runs[iz]['best_fit_values'])\n",
    "    allz_runs[iz]['hr_Nk']=len(sampler.like.extra_p1d_like.data.k_kms[0])"
   ]
  },
  {
   "cell_type": "code",
   "execution_count": null,
   "metadata": {},
   "outputs": [],
   "source": [
    "if False:\n",
    "#for iz in range(Nz):\n",
    "    sampler=allz_runs[iz]['sampler']\n",
    "    \n",
    "    best_fit_values=sampler.mle_cube\n",
    "    npar=len(best_fit_values)\n",
    "    chi2=sampler.like.get_chi2(values=best_fit_values)\n",
    "    dof=len(sampler.like.data.k_kms[0])-npar\n",
    "    f, ax = plt.subplots()\n",
    "\n",
    "    sampler.like.plot_p1d(residuals=False,values=best_fit_values)\n",
    "#    allz_runs[iz]['like'].plot_p1d(residuals=False,values=0.5*np.ones_like(sampler.mle_cube))\n",
    "    sampler.like.extra_p1d_like.plot_p1d(residuals=False,values=best_fit_values)\n",
    "#    allz_runs[iz]['like'].extra_p1d_like.plot_p1d(residuals=False,values=0.5*np.ones_like(sampler.mle_cube))\n",
    "    plt.xscale('log')\n",
    "    plt.text(0.5,0.1,'chi2={:.2f}, dof={}'.format(chi2,dof),transform=ax.transAxes)\n",
    "\n",
    "    plt.savefig('p1d_eboss_highres_z{}.png'.format(zs[iz]))"
   ]
  },
  {
   "cell_type": "code",
   "execution_count": null,
   "metadata": {},
   "outputs": [],
   "source": [
    "if False:\n",
    "#for iz in range(Nz):\n",
    "    sampler=allz_runs[iz]['sampler']\n",
    "    plt.figure()\n",
    "    allz_runs[iz]['like'].plot_p1d(residuals=True,values=sampler.mle_cube)\n",
    "#    allz_runs[iz]['like'].plot_p1d(residuals=False,values=0.5*np.ones_like(sampler.mle_cube))\n",
    "    allz_runs[iz]['like'].extra_p1d_like.plot_p1d(residuals=True,values=sampler.mle_cube)\n",
    "#    allz_runs[iz]['like'].extra_p1d_like.plot_p1d(residuals=False,values=0.5*np.ones_like(sampler.mle_cube))\n",
    "    plt.xscale('log')\n",
    "    plt.savefig('res_p1d_eboss_highres_z{}.png'.format(zs[iz]))"
   ]
  },
  {
   "cell_type": "markdown",
   "metadata": {},
   "source": [
    "### Look at the chi2 in each redshift"
   ]
  },
  {
   "cell_type": "code",
   "execution_count": null,
   "metadata": {},
   "outputs": [],
   "source": [
    "for iz in range(Nz):\n",
    "    run=allz_runs[iz]\n",
    "    npar=len(run['best_fit_values'])\n",
    "    print('z = {:.1f}, chi2 (eBOSS = {:.2f}, highres = {:.2f}, total = {:.2f}) , Ndof = {}'.format(\n",
    "            zs[iz], run['eB_chi2'], run['hr_chi2'], run['eB_chi2']+run['hr_chi2'], \n",
    "            run['eB_Nk']+run['hr_Nk']-npar))"
   ]
  },
  {
   "cell_type": "code",
   "execution_count": null,
   "metadata": {},
   "outputs": [],
   "source": [
    "eB_chi2=np.array([allz_runs[iz]['eB_chi2'] for iz in range(Nz)])\n",
    "hr_chi2=np.array([allz_runs[iz]['hr_chi2'] for iz in range(Nz)])\n",
    "eB_Nk=np.array([allz_runs[iz]['eB_Nk'] for iz in range(Nz)])\n",
    "hr_Nk=np.array([allz_runs[iz]['hr_Nk'] for iz in range(Nz)])\n",
    "npar=[len(allz_runs[iz]['best_fit_values']) for iz in range(Nz)]\n",
    "plt.plot(zs,eB_chi2,label=r'eBOSS $\\chi^2$',color='gray',ls=':')\n",
    "plt.plot(zs,hr_chi2,label=r'highres $\\chi^2$',color='gray',ls='-.')\n",
    "plt.plot(zs,eB_chi2+hr_chi2,label=r'total $\\chi^2$',color='red',ls='-')\n",
    "plt.plot(zs,eB_Nk+hr_Nk-npar,label=r'total d.o.f.',color='red',ls='--')\n",
    "plt.legend()\n",
    "plt.xlabel('z')\n",
    "plt.savefig('chi2_eboss_highres.png')"
   ]
  },
  {
   "cell_type": "markdown",
   "metadata": {},
   "source": [
    "### Plot P1D measurements and fiducial theory models (eBOSS only)"
   ]
  },
  {
   "cell_type": "code",
   "execution_count": null,
   "metadata": {},
   "outputs": [],
   "source": [
    "residuals=False\n",
    "sampling_p1d=100\n",
    "Nz=len(allz_runs)\n",
    "# figure out y range for plot\n",
    "ymin = 1e10\n",
    "ymax = -1e10\n",
    "for iz in range(0,Nz,plot_every_iz):\n",
    "    col = plt.cm.jet(iz / (Nz - 1))\n",
    "    yshift = iz / (Nz - 1)\n",
    "    z=zs[iz]\n",
    "    sampler=allz_runs[iz]['sampler']\n",
    "    values=sampler.mle_cube\n",
    "    values=0.5*np.ones_like(values)\n",
    "    like=sampler.like\n",
    "    if True:\n",
    "        # get measured bins from data\n",
    "        k_kms = like.data.k_kms[0]\n",
    "        k_emu_kms = np.logspace(np.log10(min(k_kms)), np.log10(max(k_kms)), sampling_p1d)\n",
    "\n",
    "        # ask emulator prediction for P1D in each bin\n",
    "        emu_p1d = like.get_p1d_kms([k_emu_kms], values=values, return_covar=False)\n",
    "\n",
    "        p1d_data = like.data.get_Pk_iz(0)\n",
    "        p1d_cov = like.data.get_cov_iz(0)\n",
    "        p1d_err = np.sqrt(np.diag(p1d_cov))\n",
    "        p1d_theory = emu_p1d[0]\n",
    "\n",
    "        if residuals:\n",
    "            # interpolate theory to data kp values\n",
    "            model = np.interp(k_kms, k_emu_kms, p1d_theory)\n",
    "            plt.errorbar(\n",
    "                k_kms,\n",
    "                p1d_data / model + yshift,\n",
    "                color=col,\n",
    "                yerr=p1d_err / model,\n",
    "                fmt=\"o\",\n",
    "                ms=\"4\",\n",
    "                label=\"z=\" + str(np.round(z, 2)),\n",
    "            )\n",
    "            ymin = min(ymin, min(p1d_data / model + yshift))\n",
    "            ymax = max(ymax, max(p1d_data / model + yshift))\n",
    "            plt.plot(\n",
    "                k_emu_kms,\n",
    "                p1d_theory / p1d_theory + yshift,\n",
    "                color=col,\n",
    "                linestyle=\"dashed\",\n",
    "            )\n",
    "        else:\n",
    "            plt.errorbar(\n",
    "                k_kms,\n",
    "                p1d_data * k_kms / np.pi,\n",
    "                color=col,\n",
    "                yerr=p1d_err * k_kms / np.pi,\n",
    "                fmt=\"o\",\n",
    "                ms=\"4\",\n",
    "                label=\"z=\" + str(np.round(z, 2)),\n",
    "            )\n",
    "            plt.plot(\n",
    "                k_emu_kms,\n",
    "                (p1d_theory * k_emu_kms) / np.pi,\n",
    "                color=col,\n",
    "                linestyle=\"dashed\",\n",
    "            )\n",
    "            ymin = min(ymin, min(p1d_data * k_kms / np.pi))\n",
    "            ymax = max(ymax, max(p1d_data * k_kms / np.pi))\n",
    "\n",
    "if residuals:\n",
    "    plt.ylabel(r\"$P_{\\rm 1D}(z,k_\\parallel)$ residuals\")\n",
    "    plt.ylim(ymin - 0.1, ymax + 0.1)\n",
    "else:\n",
    "    plt.yscale(\"log\")\n",
    "    plt.ylabel(r\"$k_\\parallel \\, P_{\\rm 1D}(z,k_\\parallel) / \\pi$\")\n",
    "    plt.ylim(0.8 * ymin, 1.2 * ymax)\n",
    "\n",
    "plt.plot(-10, -10, linestyle=\"-\", label=\"Data\", color=\"k\")\n",
    "plt.plot(-10, -10, linestyle=\":\", label=\"Fiducial model\", color=\"k\")\n",
    "plt.legend()\n",
    "plt.xlabel(r\"$k_\\parallel$ [s/km]\")\n",
    "plt.xlim(min(k_kms) - 0.001, max(k_kms) + 0.001)\n",
    "plt.tight_layout()\n",
    "plt.savefig('p1d_eboss_fiducial.png')"
   ]
  },
  {
   "cell_type": "markdown",
   "metadata": {},
   "source": [
    "### Plot P1D measurements and fiducial theory models (include high-res)"
   ]
  },
  {
   "cell_type": "code",
   "execution_count": null,
   "metadata": {},
   "outputs": [],
   "source": [
    "residuals=False\n",
    "sampling_p1d=100\n",
    "Nz=len(allz_runs)\n",
    "# figure out y range for plot\n",
    "ymin = 1e10\n",
    "ymax = -1e10\n",
    "xmin = ymin\n",
    "xmax = ymax\n",
    "for iz in range(0,Nz,plot_every_iz):\n",
    "    col = plt.cm.jet(iz / (Nz - 1))\n",
    "    yshift = iz / (Nz - 1)\n",
    "    z=zs[iz]\n",
    "    sampler=allz_runs[iz]['sampler']\n",
    "    values=sampler.mle_cube\n",
    "    values=0.5*np.ones_like(values)\n",
    "    like=sampler.like\n",
    "    for highres in [False, True]:\n",
    "        if highres:\n",
    "            data = like.extra_p1d_like.data\n",
    "            label = None\n",
    "        else:\n",
    "            data = like.data\n",
    "            label=\"z=\" + str(np.round(z, 2))\n",
    "        # get measured bins from data\n",
    "        k_kms = data.k_kms[0]\n",
    "        k_emu_kms = np.logspace(np.log10(min(k_kms)), np.log10(max(k_kms)), sampling_p1d)\n",
    "\n",
    "        # ask emulator prediction for P1D in each bin\n",
    "        emu_p1d = like.get_p1d_kms([k_emu_kms], values=values, return_covar=False)\n",
    "\n",
    "        p1d_data = data.get_Pk_iz(0)\n",
    "        p1d_cov = data.get_cov_iz(0)\n",
    "        p1d_err = np.sqrt(np.diag(p1d_cov))\n",
    "        p1d_theory = emu_p1d[0]\n",
    "\n",
    "        if residuals:\n",
    "            # interpolate theory to data kp values\n",
    "            model = np.interp(k_kms, k_emu_kms, p1d_theory)\n",
    "            plt.errorbar(\n",
    "                k_kms,\n",
    "                p1d_data / model + yshift,\n",
    "                color=col,\n",
    "                yerr=p1d_err / model,\n",
    "                fmt=\"o\",\n",
    "                ms=\"4\",\n",
    "                label=label,\n",
    "            )\n",
    "            ymin = min(ymin, min(p1d_data / model + yshift))\n",
    "            ymax = max(ymax, max(p1d_data / model + yshift))\n",
    "            plt.plot(\n",
    "                k_emu_kms,\n",
    "                p1d_theory / p1d_theory + yshift,\n",
    "                color=col,\n",
    "                linestyle=\"dashed\",\n",
    "            )\n",
    "        else:\n",
    "            plt.errorbar(\n",
    "                k_kms,\n",
    "                p1d_data * k_kms / np.pi,\n",
    "                color=col,\n",
    "                yerr=p1d_err * k_kms / np.pi,\n",
    "                fmt=\"o\",\n",
    "                ms=\"4\",\n",
    "                label=label,\n",
    "            )\n",
    "            plt.plot(\n",
    "                k_emu_kms,\n",
    "                (p1d_theory * k_emu_kms) / np.pi,\n",
    "                color=col,\n",
    "                linestyle=\"dashed\",\n",
    "            )\n",
    "            ymin = min(ymin, min(p1d_data * k_kms / np.pi))\n",
    "            ymax = max(ymax, max(p1d_data * k_kms / np.pi))\n",
    "            xmin = min(xmin, min(k_kms))\n",
    "            xmax = max(xmax, max(k_kms))\n",
    "\n",
    "if residuals:\n",
    "    plt.ylabel(r\"$P_{\\rm 1D}(z,k_\\parallel)$ residuals\")\n",
    "    plt.ylim(ymin - 0.1, ymax + 0.1)\n",
    "else:\n",
    "    plt.yscale(\"log\")\n",
    "    plt.ylabel(r\"$k_\\parallel \\, P_{\\rm 1D}(z,k_\\parallel) / \\pi$\")\n",
    "    plt.ylim(0.8 * ymin, 1.2 * ymax)\n",
    "\n",
    "#plt.plot(-10, -10, linestyle=\"-\", label=\"Data\", color=\"k\")\n",
    "plt.plot(-10, -10, linestyle=\":\", label=\"Fiducial model\", color=\"k\")\n",
    "plt.legend()\n",
    "plt.xlabel(r\"$k_\\parallel$ [s/km]\")\n",
    "plt.xlim(0.9*xmin, 1.1*xmax)\n",
    "plt.xscale('log')\n",
    "plt.tight_layout()\n",
    "plt.savefig('p1d_eboss_highres_fiducial.png')"
   ]
  },
  {
   "cell_type": "markdown",
   "metadata": {},
   "source": [
    "### Plot P1D measurements and best-fit theory models (only eBOSS)"
   ]
  },
  {
   "cell_type": "code",
   "execution_count": null,
   "metadata": {},
   "outputs": [],
   "source": [
    "residuals=False\n",
    "sampling_p1d=100\n",
    "Nz=len(allz_runs)\n",
    "# figure out y range for plot\n",
    "ymin = 1e10\n",
    "ymax = -1e10\n",
    "for iz in range(0,Nz,plot_every_iz):\n",
    "    col = plt.cm.jet(iz / (Nz - 1))\n",
    "    yshift = iz / (Nz - 1)\n",
    "    z=zs[iz]\n",
    "    sampler=allz_runs[iz]['sampler']\n",
    "    values=sampler.mle_cube\n",
    "    like=sampler.like\n",
    "    if True:\n",
    "        # get measured bins from data\n",
    "        k_kms = like.data.k_kms[0]\n",
    "        k_emu_kms = np.logspace(np.log10(min(k_kms)), np.log10(max(k_kms)), sampling_p1d)\n",
    "\n",
    "\n",
    "\n",
    "        # ask emulator prediction for P1D in each bin\n",
    "        emu_p1d = like.get_p1d_kms([k_emu_kms], values=values, return_covar=False)\n",
    "\n",
    "        p1d_data = like.data.get_Pk_iz(0)\n",
    "        p1d_cov = like.data.get_cov_iz(0)\n",
    "        p1d_err = np.sqrt(np.diag(p1d_cov))\n",
    "        p1d_theory = emu_p1d[0]\n",
    "\n",
    "        if residuals:\n",
    "            # interpolate theory to data kp values\n",
    "            model = np.interp(k_kms, k_emu_kms, p1d_theory)\n",
    "            plt.errorbar(\n",
    "                k_kms,\n",
    "                p1d_data / model + yshift,\n",
    "                color=col,\n",
    "                yerr=p1d_err / model,\n",
    "                fmt=\"o\",\n",
    "                ms=\"4\",\n",
    "                label=\"z=\" + str(np.round(z, 2)),\n",
    "            )\n",
    "            ymin = min(ymin, min(p1d_data / model + yshift))\n",
    "            ymax = max(ymax, max(p1d_data / model + yshift))\n",
    "            plt.plot(\n",
    "                k_emu_kms,\n",
    "                p1d_theory / p1d_theory + yshift,\n",
    "                color=col,\n",
    "                linestyle=\"dashed\",\n",
    "            )\n",
    "        else:\n",
    "            plt.errorbar(\n",
    "                k_kms,\n",
    "                p1d_data * k_kms / np.pi,\n",
    "                color=col,\n",
    "                yerr=p1d_err * k_kms / np.pi,\n",
    "                fmt=\"o\",\n",
    "                ms=\"4\",\n",
    "                label=\"z=\" + str(np.round(z, 2)),\n",
    "            )\n",
    "            plt.plot(\n",
    "                k_emu_kms,\n",
    "                (p1d_theory * k_emu_kms) / np.pi,\n",
    "                color=col,\n",
    "                linestyle=\"dashed\",\n",
    "            )\n",
    "            ymin = min(ymin, min(p1d_data * k_kms / np.pi))\n",
    "            ymax = max(ymax, max(p1d_data * k_kms / np.pi))\n",
    "\n",
    "if residuals:\n",
    "    plt.ylabel(r\"$P_{\\rm 1D}(z,k_\\parallel)$ residuals\")\n",
    "    plt.ylim(ymin - 0.1, ymax + 0.1)\n",
    "else:\n",
    "    plt.yscale(\"log\")\n",
    "    plt.ylabel(r\"$k_\\parallel \\, P_{\\rm 1D}(z,k_\\parallel) / \\pi$\")\n",
    "    plt.ylim(0.8 * ymin, 1.2 * ymax)\n",
    "\n",
    "plt.plot(-10, -10, linestyle=\"-\", label=\"Data\", color=\"k\")\n",
    "plt.plot(-10, -10, linestyle=\":\", label=\"Best-Fit model\", color=\"k\")\n",
    "plt.legend()\n",
    "plt.xlabel(r\"$k_\\parallel$ [s/km]\")\n",
    "plt.xlim(min(k_kms) - 0.001, max(k_kms) + 0.001)\n",
    "plt.tight_layout()\n",
    "plt.savefig('p1d_eboss_bestfit.png')"
   ]
  },
  {
   "cell_type": "markdown",
   "metadata": {},
   "source": [
    "### Plot P1D measurements and best-fit theory models (include high-res)"
   ]
  },
  {
   "cell_type": "code",
   "execution_count": null,
   "metadata": {},
   "outputs": [],
   "source": [
    "residuals=False\n",
    "sampling_p1d=100\n",
    "Nz=len(allz_runs)\n",
    "# figure out y range for plot\n",
    "ymin = 1e10\n",
    "ymax = -1e10\n",
    "xmin = ymin\n",
    "xmax = ymax\n",
    "for iz in range(0,Nz,plot_every_iz):\n",
    "    col = plt.cm.jet(iz / (Nz - 1))\n",
    "    yshift = iz / (Nz - 1)\n",
    "    z=zs[iz]\n",
    "    sampler=allz_runs[iz]['sampler']\n",
    "    values=sampler.mle_cube\n",
    "    #values=0.5*np.ones_like(values)\n",
    "    like=sampler.like\n",
    "    for highres in [False, True]:\n",
    "        if highres:\n",
    "            data = like.extra_p1d_like.data\n",
    "            label = None\n",
    "        else:\n",
    "            data = like.data\n",
    "            label=\"z=\" + str(np.round(z, 2))\n",
    "        # get measured bins from data\n",
    "        k_kms = data.k_kms[0]\n",
    "        k_emu_kms = np.logspace(np.log10(min(k_kms)), np.log10(max(k_kms)), sampling_p1d)\n",
    "\n",
    "        # ask emulator prediction for P1D in each bin\n",
    "        emu_p1d = like.get_p1d_kms([k_emu_kms], values=values, return_covar=False)\n",
    "\n",
    "        p1d_data = data.get_Pk_iz(0)\n",
    "        p1d_cov = data.get_cov_iz(0)\n",
    "        p1d_err = np.sqrt(np.diag(p1d_cov))\n",
    "        p1d_theory = emu_p1d[0]\n",
    "\n",
    "        if residuals:\n",
    "            # interpolate theory to data kp values\n",
    "            model = np.interp(k_kms, k_emu_kms, p1d_theory)\n",
    "            plt.errorbar(\n",
    "                k_kms,\n",
    "                p1d_data / model + yshift,\n",
    "                color=col,\n",
    "                yerr=p1d_err / model,\n",
    "                fmt=\"o\",\n",
    "                ms=\"4\",\n",
    "                label=label,\n",
    "            )\n",
    "            ymin = min(ymin, min(p1d_data / model + yshift))\n",
    "            ymax = max(ymax, max(p1d_data / model + yshift))\n",
    "            plt.plot(\n",
    "                k_emu_kms,\n",
    "                p1d_theory / p1d_theory + yshift,\n",
    "                color=col,\n",
    "                linestyle=\"dashed\",\n",
    "            )\n",
    "        else:\n",
    "            plt.errorbar(\n",
    "                k_kms,\n",
    "                p1d_data * k_kms / np.pi,\n",
    "                color=col,\n",
    "                yerr=p1d_err * k_kms / np.pi,\n",
    "                fmt=\"o\",\n",
    "                ms=\"4\",\n",
    "                label=label,\n",
    "            )\n",
    "            plt.plot(\n",
    "                k_emu_kms,\n",
    "                (p1d_theory * k_emu_kms) / np.pi,\n",
    "                color=col,\n",
    "                linestyle=\"dashed\",\n",
    "            )\n",
    "            ymin = min(ymin, min(p1d_data * k_kms / np.pi))\n",
    "            ymax = max(ymax, max(p1d_data * k_kms / np.pi))\n",
    "            xmin = min(xmin, min(k_kms))\n",
    "            xmax = max(xmax, max(k_kms))\n",
    "\n",
    "if residuals:\n",
    "    plt.ylabel(r\"$P_{\\rm 1D}(z,k_\\parallel)$ residuals\")\n",
    "    plt.ylim(ymin - 0.1, ymax + 0.1)\n",
    "else:\n",
    "    plt.yscale(\"log\")\n",
    "    plt.ylabel(r\"$k_\\parallel \\, P_{\\rm 1D}(z,k_\\parallel) / \\pi$\")\n",
    "    plt.ylim(0.8 * ymin, 1.2 * ymax)\n",
    "\n",
    "#plt.plot(-10, -10, linestyle=\"-\", label=\"Data\", color=\"k\")\n",
    "plt.plot(-10, -10, linestyle=\":\", label=\"Best-fit model\", color=\"k\")\n",
    "plt.legend()\n",
    "plt.xlabel(r\"$k_\\parallel$ [s/km]\")\n",
    "plt.xlim(0.9*xmin, 1.1*xmax)\n",
    "plt.xscale('log')\n",
    "plt.tight_layout()\n",
    "plt.savefig('p1d_eboss_highres_bestfit.png')"
   ]
  },
  {
   "cell_type": "markdown",
   "metadata": {},
   "source": [
    "### Let's take a look at the redshift evolution of best-fit parameters"
   ]
  },
  {
   "cell_type": "code",
   "execution_count": null,
   "metadata": {},
   "outputs": [],
   "source": [
    "mF=[]\n",
    "T0=[]\n",
    "gamma=[]\n",
    "sigT_kms=[]\n",
    "kF_kms=[]\n",
    "f_SiIII=[]\n",
    "for iz,z in enumerate(zs):\n",
    "    run=allz_runs[iz]\n",
    "    like=run['like']\n",
    "    best_fit_values=run['best_fit_values']\n",
    "    like_params=like.parameters_from_sampling_point(best_fit_values)\n",
    "    F_model = like.theory.F_model_fid.get_new_model(like_params)\n",
    "    T_model = like.theory.T_model_fid.get_new_model(like_params)\n",
    "    P_model = like.theory.P_model_fid.get_new_model(like_params)\n",
    "    X_model = like.theory.metal_models[0].get_new_model(like_params)\n",
    "    mF.append(F_model.get_mean_flux(z=z))\n",
    "    T0.append(T_model.get_T0(z=z))\n",
    "    sigT_kms.append(T_model.get_sigT_kms(z=z))\n",
    "    gamma.append(T_model.get_gamma(z=z))\n",
    "    kF_kms.append(P_model.get_kF_kms(z=z))\n",
    "    f_SiIII.append(X_model.get_amplitude(z=z))"
   ]
  },
  {
   "cell_type": "code",
   "execution_count": null,
   "metadata": {},
   "outputs": [],
   "source": [
    "plt.plot(zs,mF)\n",
    "plt.xlabel('z')\n",
    "plt.ylabel('<F>')\n",
    "plt.savefig('mF_eboss_highres.png')"
   ]
  },
  {
   "cell_type": "code",
   "execution_count": null,
   "metadata": {},
   "outputs": [],
   "source": [
    "plt.plot(zs,T0)\n",
    "plt.xlabel('z')\n",
    "plt.ylabel(r'$T_0 [K]$')\n",
    "plt.savefig('T0_eboss_highres.png')"
   ]
  },
  {
   "cell_type": "code",
   "execution_count": null,
   "metadata": {},
   "outputs": [],
   "source": [
    "plt.plot(zs,gamma)\n",
    "plt.xlabel('z')\n",
    "plt.ylabel(r'$\\gamma$')\n",
    "plt.savefig('gamma_eboss_highres.png')"
   ]
  },
  {
   "cell_type": "code",
   "execution_count": null,
   "metadata": {},
   "outputs": [],
   "source": [
    "plt.plot(zs,kF_kms)\n",
    "plt.xlabel('z')\n",
    "plt.ylabel(r'$k_F$ [s/km]')\n",
    "plt.savefig('kF_eboss_highres.png')"
   ]
  },
  {
   "cell_type": "code",
   "execution_count": null,
   "metadata": {},
   "outputs": [],
   "source": [
    "plt.plot(zs,f_SiIII)\n",
    "plt.xlabel('z')\n",
    "plt.ylabel(r'$f_{\\rm SiIII}$')\n",
    "plt.savefig('fSiIII_eboss_highres.png')"
   ]
  },
  {
   "cell_type": "markdown",
   "metadata": {},
   "source": [
    "### Now let's use MCMC mean and rms"
   ]
  },
  {
   "cell_type": "code",
   "execution_count": null,
   "metadata": {},
   "outputs": [],
   "source": [
    "mF=np.zeros([Nz,6])\n",
    "T0=np.zeros([Nz,6])\n",
    "gamma=np.zeros([Nz,6])\n",
    "kF_kms=np.zeros([Nz,6])\n",
    "f_SiIII=np.zeros([Nz,6])\n",
    "for iz,z in enumerate(zs):\n",
    "    run=allz_runs[iz]\n",
    "    like=run['like']\n",
    "    chain=run['sampler'].chain\n",
    "    mean=chain.mean(axis=(0,1))\n",
    "    rms=np.sqrt(chain.var(axis=(0,1)))\n",
    "    for i in range(3):\n",
    "        like_params=like.parameters_from_sampling_point(mean+(i-1)*rms)\n",
    "        F_model = like.theory.F_model_fid.get_new_model(like_params)\n",
    "        T_model = like.theory.T_model_fid.get_new_model(like_params)\n",
    "        P_model = like.theory.P_model_fid.get_new_model(like_params)\n",
    "        X_model = like.theory.metal_models[0].get_new_model(like_params)\n",
    "        mF[iz,i]=F_model.get_mean_flux(z=z)\n",
    "        T0[iz,i]=T_model.get_T0(z=z)\n",
    "        gamma[iz,i]=T_model.get_gamma(z=z)\n",
    "        kF_kms[iz,i]=P_model.get_kF_kms(z=z)\n",
    "        f_SiIII[iz,i]=X_model.get_amplitude(z=z)\n",
    "    for i in range(3):\n",
    "        p=10+i*40\n",
    "        pp=np.percentile(chain,p,axis=(0,1))\n",
    "        like_params=like.parameters_from_sampling_point(pp)\n",
    "        F_model = like.theory.F_model_fid.get_new_model(like_params)\n",
    "        T_model = like.theory.T_model_fid.get_new_model(like_params)\n",
    "        P_model = like.theory.P_model_fid.get_new_model(like_params)\n",
    "        X_model = like.theory.metal_models[0].get_new_model(like_params)\n",
    "        mF[iz,i+3]=F_model.get_mean_flux(z=z)\n",
    "        T0[iz,i+3]=T_model.get_T0(z=z)\n",
    "        gamma[iz,i+3]=T_model.get_gamma(z=z)\n",
    "        kF_kms[iz,i+3]=P_model.get_kF_kms(z=z)\n",
    "        f_SiIII[iz,i+3]=X_model.get_amplitude(z=z)"
   ]
  },
  {
   "cell_type": "code",
   "execution_count": null,
   "metadata": {},
   "outputs": [],
   "source": [
    "plt.fill_between(zs,mF[:,3],mF[:,5],alpha=0.3)\n",
    "plt.plot(zs,mF[:,4])\n",
    "plt.xlabel('z')\n",
    "plt.ylabel('<F>')\n",
    "plt.savefig('mF_eboss_highres.png')"
   ]
  },
  {
   "cell_type": "code",
   "execution_count": null,
   "metadata": {},
   "outputs": [],
   "source": [
    "plt.fill_between(zs,T0[:,3],T0[:,5],alpha=0.3)\n",
    "plt.plot(zs,T0[:,4])\n",
    "plt.xlabel('z')\n",
    "plt.ylabel(r'$T_0 [K]$')\n",
    "plt.savefig('T0_eboss_highres.png')"
   ]
  },
  {
   "cell_type": "code",
   "execution_count": null,
   "metadata": {},
   "outputs": [],
   "source": [
    "plt.fill_between(zs,gamma[:,3],gamma[:,5],alpha=0.3)\n",
    "plt.plot(zs,gamma[:,4])\n",
    "plt.xlabel('z')\n",
    "plt.ylabel(r'$\\gamma$')\n",
    "plt.savefig('gamma_eboss_highres.png')"
   ]
  },
  {
   "cell_type": "code",
   "execution_count": null,
   "metadata": {},
   "outputs": [],
   "source": [
    "plt.fill_between(zs,kF_kms[:,3],kF_kms[:,5],alpha=0.3)\n",
    "plt.plot(zs,kF_kms[:,4])\n",
    "plt.xlabel('z')\n",
    "plt.ylabel(r'$k_F$ [s/km]')\n",
    "plt.savefig('kF_eboss_highres.png')"
   ]
  },
  {
   "cell_type": "code",
   "execution_count": null,
   "metadata": {},
   "outputs": [],
   "source": [
    "plt.fill_between(zs,f_SiIII[:,3],f_SiIII[:,5],alpha=0.3)\n",
    "plt.plot(zs,f_SiIII[:,4])\n",
    "plt.xlabel('z')\n",
    "plt.ylabel(r'$f_{\\rm SiIII}$')\n",
    "plt.savefig('fSiIII_eboss_highres.png')"
   ]
  },
  {
   "cell_type": "code",
   "execution_count": null,
   "metadata": {},
   "outputs": [],
   "source": []
  }
 ],
 "metadata": {
  "kernelspec": {
   "display_name": "cup1d",
   "language": "python",
   "name": "cup1d"
  },
  "language_info": {
   "codemirror_mode": {
    "name": "ipython",
    "version": 3
   },
   "file_extension": ".py",
   "mimetype": "text/x-python",
   "name": "python",
   "nbconvert_exporter": "python",
   "pygments_lexer": "ipython3",
   "version": "3.11.9"
  }
 },
 "nbformat": 4,
 "nbformat_minor": 4
}
