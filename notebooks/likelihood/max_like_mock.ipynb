{
 "cells": [
  {
   "cell_type": "markdown",
   "metadata": {},
   "source": [
    "## Example of likelihood maximization with iMinuit\n",
    "\n",
    "This notebook contains the basic syntax required to run iMinuit on mock P1D data from a given model"
   ]
  },
  {
   "cell_type": "code",
   "execution_count": 1,
   "metadata": {},
   "outputs": [
    {
     "name": "stderr",
     "output_type": "stream",
     "text": [
      "DEBUG:jupyter_black:config: {'line_length': 79, 'target_versions': {<TargetVersion.PY310: 10>}}\n"
     ]
    },
    {
     "data": {
      "application/javascript": [
       "\n",
       "            (function() {\n",
       "                jb_set_cell(\"folder_figs = os.path.abspath(\\\".\\\") + \\\"/fig_max_like_mock/\\\"\\n\\n# emulator_label = \\\"mpg_gp\\\"\\n# emulator_label = \\\"mpg_nn\\\"\\nemulator_label = \\\"nyx_nn\\\"\\n\\ndata_label = \\\"QMLE_Ohio\\\"\\n# data_label = \\\"Chabanier2019\\\"\\n\\nsim_igm = emulator_label[:3]\\n\\n# specify if you want to add high-resolution P1D (only working for Pedersen23 emulator)\\n# add_hires = True\\nadd_hires = False\\n\\nif add_hires:\\n    emu_kmax_Mpc = 8\\n    emu_ndeg = 7\\n    flag_fig = data_label + \\\"_\\\" + emulator_label + \\\"_hr\\\"\\nelse:\\n    extra_data = None\\n    emu_kmax_Mpc = 4\\n    emu_ndeg = 5\\n    flag_fig = data_label + \\\"_\\\" + emulator_label + \\\"_lr\\\"\")\n",
       "            })();\n",
       "            "
      ],
      "text/plain": [
       "<IPython.core.display.Javascript object>"
      ]
     },
     "metadata": {},
     "output_type": "display_data"
    }
   ],
   "source": [
    "%matplotlib inline\n",
    "\n",
    "import black\n",
    "import jupyter_black\n",
    "\n",
    "jupyter_black.load(\n",
    "    lab=False,\n",
    "    line_length=79,\n",
    "    verbosity=\"DEBUG\",\n",
    "    target_version=black.TargetVersion.PY310,\n",
    ")\n",
    "\n",
    "import matplotlib.pyplot as plt\n",
    "import matplotlib as mpl\n",
    "mpl.rcParams['savefig.dpi'] = 140\n",
    "mpl.rcParams['figure.dpi'] = 140\n",
    "import numpy as np\n",
    "import os\n",
    "# our own modules\n",
    "from lace.emulator import gp_emulator\n",
    "from lace.emulator import nn_emulator\n",
    "from cup1d.data import mock_data\n",
    "from cup1d.likelihood import lya_theory\n",
    "from cup1d.likelihood import likelihood\n",
    "from cup1d.likelihood import iminuit_minimizer"
   ]
  },
  {
   "cell_type": "code",
   "execution_count": 82,
   "metadata": {},
   "outputs": [],
   "source": [
    "folder_figs = os.path.abspath(\".\") + \"/fig_max_like_mock/\"\n",
    "\n",
    "# emulator_label = \"mpg_gp\"\n",
    "# emulator_label = \"mpg_nn\"\n",
    "emulator_label = \"nyx_nn\"\n",
    "\n",
    "data_label = \"QMLE_Ohio\"\n",
    "# data_label = \"Chabanier2019\"\n",
    "\n",
    "sim_igm = emulator_label[:3]\n",
    "\n",
    "# specify if you want to add high-resolution P1D (only working for Pedersen23 emulator)\n",
    "# add_hires = True\n",
    "add_hires = False\n",
    "\n",
    "if add_hires:\n",
    "    emu_kmax_Mpc = 8\n",
    "    emu_ndeg = 7\n",
    "    flag_fig = data_label + \"_\" + emulator_label + \"_hr\"\n",
    "else:\n",
    "    extra_data = None\n",
    "    emu_kmax_Mpc = 4\n",
    "    emu_ndeg = 5\n",
    "    flag_fig = data_label + \"_\" + emulator_label + \"_lr\""
   ]
  },
  {
   "cell_type": "markdown",
   "metadata": {},
   "source": [
    "### Setup emulator\n",
    "\n",
    "The emulator will be used both to make a mock, and in the likelihood "
   ]
  },
  {
   "cell_type": "code",
   "execution_count": 83,
   "metadata": {},
   "outputs": [
    {
     "name": "stdout",
     "output_type": "stream",
     "text": [
      "Selected training set from Nyx23\n",
      "Select emulator in Cabayol23_Nyx\n",
      "Neural network emulating the optimal P1D of Nyx simulations fitting coefficients to a 5th degree polynomial. It goes to scales of 4Mpc^{-1} and z<=4.5. The parameters passed to the emulator will be overwritten to match these ones\n"
     ]
    }
   ],
   "source": [
    "if emulator_label == \"mpg_gp\":\n",
    "    emulator = gp_emulator.GPEmulator(\n",
    "        training_set=\"Pedersen21\", kmax_Mpc=emu_kmax_Mpc, ndeg=emu_ndeg\n",
    "    )\n",
    "elif emulator_label == \"mpg_nn\":\n",
    "    assert not add_hires, \"NN emulator not trained beyond k=4 1/Mpc\"\n",
    "    emulator = nn_emulator.NNEmulator(\n",
    "        training_set=\"Cabayol23\", emulator_label=\"Cabayol23\"\n",
    "    )\n",
    "elif emulator_label == \"nyx_nn\":\n",
    "    assert not add_hires, \"Nyx emulator not trained beyond k=4 1/Mpc\"\n",
    "    emulator = nn_emulator.NNEmulator(\n",
    "        training_set=\"Nyx23\", emulator_label=\"Cabayol23_Nyx\"\n",
    "    )\n",
    "else:\n",
    "    raise ValueError(\"wrong emulator_label\", emulator_label)"
   ]
  },
  {
   "cell_type": "markdown",
   "metadata": {},
   "source": [
    "### Create mock P1D data\n",
    "\n",
    "Use Lya theory to mimic mock data"
   ]
  },
  {
   "cell_type": "code",
   "execution_count": 84,
   "metadata": {},
   "outputs": [
    {
     "name": "stdout",
     "output_type": "stream",
     "text": [
      "will read P1D file /home/jchaves/Proyectos/projects/lya/chains/private_data/p1d_measurements//QMLE_Ohio//desi-y5fp-1.5-4-o3-deconv-power-qmle_kmax0.04.txt\n",
      "2 low-k bins not included\n"
     ]
    },
    {
     "ename": "ValueError",
     "evalue": "A value in x_new is below the interpolation range.",
     "output_type": "error",
     "traceback": [
      "\u001b[0;31m---------------------------------------------------------------------------\u001b[0m",
      "\u001b[0;31mValueError\u001b[0m                                Traceback (most recent call last)",
      "Input \u001b[0;32mIn [84]\u001b[0m, in \u001b[0;36m<cell line: 1>\u001b[0;34m()\u001b[0m\n\u001b[0;32m----> 1\u001b[0m data \u001b[38;5;241m=\u001b[39m \u001b[43mmock_data\u001b[49m\u001b[38;5;241;43m.\u001b[39;49m\u001b[43mMock_P1D\u001b[49m\u001b[43m(\u001b[49m\n\u001b[1;32m      2\u001b[0m \u001b[43m    \u001b[49m\u001b[43memulator\u001b[49m\u001b[38;5;241;43m=\u001b[39;49m\u001b[43memulator\u001b[49m\u001b[43m,\u001b[49m\u001b[43m \u001b[49m\u001b[43mdata_label\u001b[49m\u001b[38;5;241;43m=\u001b[39;49m\u001b[43mdata_label\u001b[49m\u001b[43m,\u001b[49m\u001b[43m \u001b[49m\u001b[43msim_igm\u001b[49m\u001b[38;5;241;43m=\u001b[39;49m\u001b[43msim_igm\u001b[49m\n\u001b[1;32m      3\u001b[0m \u001b[43m)\u001b[49m\n",
      "File \u001b[0;32m~/miniconda3/envs/general/lib/python3.9/site-packages/cup1d-0.1.0-py3.9.egg/cup1d/data/mock_data.py:46\u001b[0m, in \u001b[0;36mMock_P1D.__init__\u001b[0;34m(self, emulator, data_label, zmin, zmax, sim_igm)\u001b[0m\n\u001b[1;32m     43\u001b[0m Pk_kms \u001b[38;5;241m=\u001b[39m data\u001b[38;5;241m.\u001b[39mPk_kms\u001b[38;5;241m.\u001b[39mcopy()\n\u001b[1;32m     45\u001b[0m \u001b[38;5;66;03m# evaluate theory at k_kms, for all redshifts\u001b[39;00m\n\u001b[0;32m---> 46\u001b[0m emu_p1d_kms \u001b[38;5;241m=\u001b[39m \u001b[38;5;28;43mself\u001b[39;49m\u001b[38;5;241;43m.\u001b[39;49m\u001b[43mtheory\u001b[49m\u001b[38;5;241;43m.\u001b[39;49m\u001b[43mget_p1d_kms\u001b[49m\u001b[43m(\u001b[49m\u001b[43mdata\u001b[49m\u001b[38;5;241;43m.\u001b[39;49m\u001b[43mk_kms\u001b[49m\u001b[43m)\u001b[49m\n\u001b[1;32m     47\u001b[0m \u001b[38;5;28;01mfor\u001b[39;00m iz, z \u001b[38;5;129;01min\u001b[39;00m \u001b[38;5;28menumerate\u001b[39m(data\u001b[38;5;241m.\u001b[39mz):\n\u001b[1;32m     48\u001b[0m     Pk_kms[iz] \u001b[38;5;241m=\u001b[39m emu_p1d_kms[iz]\n",
      "File \u001b[0;32m~/miniconda3/envs/general/lib/python3.9/site-packages/cup1d-0.1.0-py3.9.egg/cup1d/likelihood/lya_theory.py:353\u001b[0m, in \u001b[0;36mTheory.get_p1d_kms\u001b[0;34m(self, k_kms, like_params, return_covar, return_blob)\u001b[0m\n\u001b[1;32m    349\u001b[0m     emu_calls, M_of_z, blob \u001b[38;5;241m=\u001b[39m \u001b[38;5;28mself\u001b[39m\u001b[38;5;241m.\u001b[39mget_emulator_calls(\n\u001b[1;32m    350\u001b[0m         like_params\u001b[38;5;241m=\u001b[39mlike_params, return_M_of_z\u001b[38;5;241m=\u001b[39m\u001b[38;5;28;01mTrue\u001b[39;00m, return_blob\u001b[38;5;241m=\u001b[39m\u001b[38;5;28;01mTrue\u001b[39;00m\n\u001b[1;32m    351\u001b[0m     )\n\u001b[1;32m    352\u001b[0m \u001b[38;5;28;01melse\u001b[39;00m:\n\u001b[0;32m--> 353\u001b[0m     emu_calls, M_of_z \u001b[38;5;241m=\u001b[39m \u001b[38;5;28;43mself\u001b[39;49m\u001b[38;5;241;43m.\u001b[39;49m\u001b[43mget_emulator_calls\u001b[49m\u001b[43m(\u001b[49m\n\u001b[1;32m    354\u001b[0m \u001b[43m        \u001b[49m\u001b[43mlike_params\u001b[49m\u001b[38;5;241;43m=\u001b[39;49m\u001b[43mlike_params\u001b[49m\u001b[43m,\u001b[49m\u001b[43m \u001b[49m\u001b[43mreturn_M_of_z\u001b[49m\u001b[38;5;241;43m=\u001b[39;49m\u001b[38;5;28;43;01mTrue\u001b[39;49;00m\u001b[43m,\u001b[49m\u001b[43m \u001b[49m\u001b[43mreturn_blob\u001b[49m\u001b[38;5;241;43m=\u001b[39;49m\u001b[38;5;28;43;01mFalse\u001b[39;49;00m\n\u001b[1;32m    355\u001b[0m \u001b[43m    \u001b[49m\u001b[43m)\u001b[49m\n\u001b[1;32m    357\u001b[0m \u001b[38;5;66;03m# loop over redshifts and compute P1D\u001b[39;00m\n\u001b[1;32m    358\u001b[0m p1d_kms \u001b[38;5;241m=\u001b[39m []\n",
      "File \u001b[0;32m~/miniconda3/envs/general/lib/python3.9/site-packages/cup1d-0.1.0-py3.9.egg/cup1d/likelihood/lya_theory.py:225\u001b[0m, in \u001b[0;36mTheory.get_emulator_calls\u001b[0;34m(self, like_params, return_M_of_z, return_blob)\u001b[0m\n\u001b[1;32m    223\u001b[0m model \u001b[38;5;241m=\u001b[39m linP_Mpc_params[iz]\n\u001b[1;32m    224\u001b[0m \u001b[38;5;66;03m# emulator parameters for nuisance models, at this redshift\u001b[39;00m\n\u001b[0;32m--> 225\u001b[0m model[\u001b[38;5;124m\"\u001b[39m\u001b[38;5;124mmF\u001b[39m\u001b[38;5;124m\"\u001b[39m] \u001b[38;5;241m=\u001b[39m \u001b[43mF_model\u001b[49m\u001b[38;5;241;43m.\u001b[39;49m\u001b[43mget_mean_flux\u001b[49m\u001b[43m(\u001b[49m\u001b[43mz\u001b[49m\u001b[43m)\u001b[49m\n\u001b[1;32m    226\u001b[0m model[\u001b[38;5;124m\"\u001b[39m\u001b[38;5;124mgamma\u001b[39m\u001b[38;5;124m\"\u001b[39m] \u001b[38;5;241m=\u001b[39m T_model\u001b[38;5;241m.\u001b[39mget_gamma(z)\n\u001b[1;32m    227\u001b[0m sigT_kms \u001b[38;5;241m=\u001b[39m T_model\u001b[38;5;241m.\u001b[39mget_sigT_kms(z)\n",
      "File \u001b[0;32m~/miniconda3/envs/general/lib/python3.9/site-packages/cup1d-0.1.0-py3.9.egg/cup1d/nuisance/mean_flux_model.py:81\u001b[0m, in \u001b[0;36mMeanFluxModel.get_mean_flux\u001b[0;34m(self, z)\u001b[0m\n\u001b[1;32m     79\u001b[0m \u001b[38;5;28;01mdef\u001b[39;00m \u001b[38;5;21mget_mean_flux\u001b[39m(\u001b[38;5;28mself\u001b[39m, z):\n\u001b[1;32m     80\u001b[0m     \u001b[38;5;124;03m\"\"\"Mean transmitted flux fraction at the input redshift\"\"\"\u001b[39;00m\n\u001b[0;32m---> 81\u001b[0m     tau \u001b[38;5;241m=\u001b[39m \u001b[38;5;28;43mself\u001b[39;49m\u001b[38;5;241;43m.\u001b[39;49m\u001b[43mget_tau_eff\u001b[49m\u001b[43m(\u001b[49m\u001b[43mz\u001b[49m\u001b[43m)\u001b[49m\n\u001b[1;32m     82\u001b[0m     \u001b[38;5;28;01mreturn\u001b[39;00m np\u001b[38;5;241m.\u001b[39mexp(\u001b[38;5;241m-\u001b[39mtau)\n",
      "File \u001b[0;32m~/miniconda3/envs/general/lib/python3.9/site-packages/cup1d-0.1.0-py3.9.egg/cup1d/nuisance/mean_flux_model.py:76\u001b[0m, in \u001b[0;36mMeanFluxModel.get_tau_eff\u001b[0;34m(self, z)\u001b[0m\n\u001b[1;32m     74\u001b[0m \u001b[38;5;28;01mdef\u001b[39;00m \u001b[38;5;21mget_tau_eff\u001b[39m(\u001b[38;5;28mself\u001b[39m, z):\n\u001b[1;32m     75\u001b[0m     \u001b[38;5;124;03m\"\"\"Effective optical depth at the input redshift\"\"\"\u001b[39;00m\n\u001b[0;32m---> 76\u001b[0m     tau_eff \u001b[38;5;241m=\u001b[39m \u001b[38;5;28mself\u001b[39m\u001b[38;5;241m.\u001b[39mpower_law_scaling(z) \u001b[38;5;241m*\u001b[39m \u001b[38;5;28;43mself\u001b[39;49m\u001b[38;5;241;43m.\u001b[39;49m\u001b[43mfid_tau_interp\u001b[49m\u001b[43m(\u001b[49m\u001b[43mz\u001b[49m\u001b[43m)\u001b[49m\n\u001b[1;32m     77\u001b[0m     \u001b[38;5;28;01mreturn\u001b[39;00m tau_eff\n",
      "File \u001b[0;32m~/miniconda3/envs/general/lib/python3.9/site-packages/scipy/interpolate/_polyint.py:78\u001b[0m, in \u001b[0;36m_Interpolator1D.__call__\u001b[0;34m(self, x)\u001b[0m\n\u001b[1;32m     57\u001b[0m \u001b[38;5;124;03m\"\"\"\u001b[39;00m\n\u001b[1;32m     58\u001b[0m \u001b[38;5;124;03mEvaluate the interpolant\u001b[39;00m\n\u001b[1;32m     59\u001b[0m \n\u001b[0;32m   (...)\u001b[0m\n\u001b[1;32m     75\u001b[0m \n\u001b[1;32m     76\u001b[0m \u001b[38;5;124;03m\"\"\"\u001b[39;00m\n\u001b[1;32m     77\u001b[0m x, x_shape \u001b[38;5;241m=\u001b[39m \u001b[38;5;28mself\u001b[39m\u001b[38;5;241m.\u001b[39m_prepare_x(x)\n\u001b[0;32m---> 78\u001b[0m y \u001b[38;5;241m=\u001b[39m \u001b[38;5;28;43mself\u001b[39;49m\u001b[38;5;241;43m.\u001b[39;49m\u001b[43m_evaluate\u001b[49m\u001b[43m(\u001b[49m\u001b[43mx\u001b[49m\u001b[43m)\u001b[49m\n\u001b[1;32m     79\u001b[0m \u001b[38;5;28;01mreturn\u001b[39;00m \u001b[38;5;28mself\u001b[39m\u001b[38;5;241m.\u001b[39m_finish_y(y, x_shape)\n",
      "File \u001b[0;32m~/miniconda3/envs/general/lib/python3.9/site-packages/scipy/interpolate/_interpolate.py:707\u001b[0m, in \u001b[0;36minterp1d._evaluate\u001b[0;34m(self, x_new)\u001b[0m\n\u001b[1;32m    705\u001b[0m y_new \u001b[38;5;241m=\u001b[39m \u001b[38;5;28mself\u001b[39m\u001b[38;5;241m.\u001b[39m_call(\u001b[38;5;28mself\u001b[39m, x_new)\n\u001b[1;32m    706\u001b[0m \u001b[38;5;28;01mif\u001b[39;00m \u001b[38;5;129;01mnot\u001b[39;00m \u001b[38;5;28mself\u001b[39m\u001b[38;5;241m.\u001b[39m_extrapolate:\n\u001b[0;32m--> 707\u001b[0m     below_bounds, above_bounds \u001b[38;5;241m=\u001b[39m \u001b[38;5;28;43mself\u001b[39;49m\u001b[38;5;241;43m.\u001b[39;49m\u001b[43m_check_bounds\u001b[49m\u001b[43m(\u001b[49m\u001b[43mx_new\u001b[49m\u001b[43m)\u001b[49m\n\u001b[1;32m    708\u001b[0m     \u001b[38;5;28;01mif\u001b[39;00m \u001b[38;5;28mlen\u001b[39m(y_new) \u001b[38;5;241m>\u001b[39m \u001b[38;5;241m0\u001b[39m:\n\u001b[1;32m    709\u001b[0m         \u001b[38;5;66;03m# Note fill_value must be broadcast up to the proper size\u001b[39;00m\n\u001b[1;32m    710\u001b[0m         \u001b[38;5;66;03m# and flattened to work here\u001b[39;00m\n\u001b[1;32m    711\u001b[0m         y_new[below_bounds] \u001b[38;5;241m=\u001b[39m \u001b[38;5;28mself\u001b[39m\u001b[38;5;241m.\u001b[39m_fill_value_below\n",
      "File \u001b[0;32m~/miniconda3/envs/general/lib/python3.9/site-packages/scipy/interpolate/_interpolate.py:736\u001b[0m, in \u001b[0;36minterp1d._check_bounds\u001b[0;34m(self, x_new)\u001b[0m\n\u001b[1;32m    734\u001b[0m \u001b[38;5;66;03m# !! Could provide more information about which values are out of bounds\u001b[39;00m\n\u001b[1;32m    735\u001b[0m \u001b[38;5;28;01mif\u001b[39;00m \u001b[38;5;28mself\u001b[39m\u001b[38;5;241m.\u001b[39mbounds_error \u001b[38;5;129;01mand\u001b[39;00m below_bounds\u001b[38;5;241m.\u001b[39many():\n\u001b[0;32m--> 736\u001b[0m     \u001b[38;5;28;01mraise\u001b[39;00m \u001b[38;5;167;01mValueError\u001b[39;00m(\u001b[38;5;124m\"\u001b[39m\u001b[38;5;124mA value in x_new is below the interpolation \u001b[39m\u001b[38;5;124m\"\u001b[39m\n\u001b[1;32m    737\u001b[0m                      \u001b[38;5;124m\"\u001b[39m\u001b[38;5;124mrange.\u001b[39m\u001b[38;5;124m\"\u001b[39m)\n\u001b[1;32m    738\u001b[0m \u001b[38;5;28;01mif\u001b[39;00m \u001b[38;5;28mself\u001b[39m\u001b[38;5;241m.\u001b[39mbounds_error \u001b[38;5;129;01mand\u001b[39;00m above_bounds\u001b[38;5;241m.\u001b[39many():\n\u001b[1;32m    739\u001b[0m     \u001b[38;5;28;01mraise\u001b[39;00m \u001b[38;5;167;01mValueError\u001b[39;00m(\u001b[38;5;124m\"\u001b[39m\u001b[38;5;124mA value in x_new is above the interpolation \u001b[39m\u001b[38;5;124m\"\u001b[39m\n\u001b[1;32m    740\u001b[0m                      \u001b[38;5;124m\"\u001b[39m\u001b[38;5;124mrange.\u001b[39m\u001b[38;5;124m\"\u001b[39m)\n",
      "\u001b[0;31mValueError\u001b[0m: A value in x_new is below the interpolation range."
     ]
    }
   ],
   "source": [
    "data = mock_data.Mock_P1D(\n",
    "    emulator=emulator, data_label=data_label, sim_igm=sim_igm\n",
    ")"
   ]
  },
  {
   "cell_type": "code",
   "execution_count": null,
   "metadata": {},
   "outputs": [],
   "source": [
    "data.plot_p1d()"
   ]
  },
  {
   "cell_type": "code",
   "execution_count": null,
   "metadata": {},
   "outputs": [],
   "source": [
    "# check if we also need mock extra_p1d\n",
    "if add_hires:\n",
    "    extra_data = mock_data.Mock_P1D(\n",
    "        emulator=emulator, data_label=\"Karacayli2022\"\n",
    "    )\n",
    "else:\n",
    "    extra_data = None"
   ]
  },
  {
   "cell_type": "markdown",
   "metadata": {},
   "source": [
    "### Set free parameters and theory"
   ]
  },
  {
   "cell_type": "code",
   "execution_count": null,
   "metadata": {},
   "outputs": [],
   "source": [
    "# stick to primordial power-law parameters here\n",
    "free_param_names = [\"As\", \"ns\"]\n",
    "# specify the number of free parameters per IGM function (default=2)\n",
    "n_igm = 2\n",
    "for i in range(n_igm):\n",
    "    for par in [\"tau\", \"sigT_kms\", \"gamma\", \"kF\"]:\n",
    "        free_param_names.append(\"ln_{}_{}\".format(par, i))"
   ]
  },
  {
   "cell_type": "code",
   "execution_count": null,
   "metadata": {},
   "outputs": [],
   "source": [
    "theory = lya_theory.Theory(\n",
    "    zs=data.z,\n",
    "    emulator=emulator,\n",
    "    free_param_names=free_param_names,\n",
    "    sim_igm=sim_igm,\n",
    ")"
   ]
  },
  {
   "cell_type": "code",
   "execution_count": null,
   "metadata": {},
   "outputs": [],
   "source": [
    "# print parameter values used to create mock data\n",
    "for p in theory.get_parameters():\n",
    "    print(p.info_str(all_info=True))"
   ]
  },
  {
   "cell_type": "markdown",
   "metadata": {},
   "source": [
    "### Set up a likelihood\n",
    "\n",
    "Here we chose which parameters we want to sample, over which range and chose a prior. We pass the data and theory objects to the likelihood."
   ]
  },
  {
   "cell_type": "code",
   "execution_count": null,
   "metadata": {},
   "outputs": [],
   "source": [
    "# option to include/remove a Gaussian prior (in unit cube)\n",
    "prior_Gauss_rms = None\n",
    "# option to include/ignore emulator covariance (it might bias the results)\n",
    "emu_cov_factor = 0\n",
    "like = likelihood.Likelihood(\n",
    "    data=data,\n",
    "    theory=theory,\n",
    "    free_param_names=free_param_names,\n",
    "    prior_Gauss_rms=prior_Gauss_rms,\n",
    "    emu_cov_factor=emu_cov_factor,\n",
    "    extra_p1d_data=extra_data,\n",
    ")"
   ]
  },
  {
   "cell_type": "code",
   "execution_count": null,
   "metadata": {},
   "outputs": [],
   "source": [
    "# check starting point for free parameters (should be equal to truth)\n",
    "test_values = len(free_param_names) * [0.5]\n",
    "for p in like.parameters_from_sampling_point(values=test_values):\n",
    "    print(p.info_str(all_info=True))\n",
    "print(\"chi2 =\", like.get_chi2(values=test_values))\n",
    "like.plot_p1d(values=test_values, residuals=True, plot_every_iz=2)"
   ]
  },
  {
   "cell_type": "code",
   "execution_count": null,
   "metadata": {},
   "outputs": [],
   "source": [
    "if extra_data:\n",
    "    like.extra_p1d_like.plot_p1d(residuals=True, plot_every_iz=2)"
   ]
  },
  {
   "cell_type": "markdown",
   "metadata": {},
   "source": [
    "### Run iminuit minimizer"
   ]
  },
  {
   "cell_type": "code",
   "execution_count": null,
   "metadata": {},
   "outputs": [],
   "source": [
    "# choose starting point for free parameters (within 0.5 +/- ini_sigma, in the unit cube)\n",
    "ini_sigma = 0.00002\n",
    "ini_values = (\n",
    "    2 * ini_sigma * np.random.random(len(like.free_params)) + 0.5 - ini_sigma\n",
    ")\n",
    "print(\"ini values\", ini_values)\n",
    "for p in like.parameters_from_sampling_point(values=ini_values):\n",
    "    print(p.info_str(all_info=True))"
   ]
  },
  {
   "cell_type": "code",
   "execution_count": null,
   "metadata": {},
   "outputs": [],
   "source": [
    "minimizer = iminuit_minimizer.IminuitMinimizer(like, ini_values=ini_values)"
   ]
  },
  {
   "cell_type": "code",
   "execution_count": null,
   "metadata": {},
   "outputs": [],
   "source": [
    "minimizer.minimize(compute_hesse=True)"
   ]
  },
  {
   "cell_type": "code",
   "execution_count": null,
   "metadata": {},
   "outputs": [],
   "source": [
    "# what is the chi2 of the best-fit? (should be close to 0)\n",
    "best_fit_values = np.array(minimizer.minimizer.values)\n",
    "like.get_chi2(values=best_fit_values)"
   ]
  },
  {
   "cell_type": "code",
   "execution_count": null,
   "metadata": {},
   "outputs": [],
   "source": [
    "# what was the chi2 of the starting point?\n",
    "like.get_chi2(values=ini_values)"
   ]
  },
  {
   "cell_type": "markdown",
   "metadata": {},
   "source": [
    "### Save results"
   ]
  },
  {
   "cell_type": "code",
   "execution_count": null,
   "metadata": {},
   "outputs": [],
   "source": [
    "pars = [\"As\", \"ns\"]\n",
    "for ii in range(2):\n",
    "    pars += [\"ln_tau_\" + str(ii)]\n",
    "    pars += [\"ln_sigT_kms_\" + str(ii)]\n",
    "    pars += [\"ln_gamma_\" + str(ii)]\n",
    "    pars += [\"ln_kF_\" + str(ii)]"
   ]
  },
  {
   "cell_type": "code",
   "execution_count": null,
   "metadata": {},
   "outputs": [],
   "source": [
    "arr_parx = []\n",
    "arr_pary = []\n",
    "arr_sig_x = []\n",
    "arr_sig_y = []\n",
    "arr_r = []\n",
    "for parx in pars:\n",
    "    ix = minimizer.index_by_name(parx)\n",
    "    sig_x = minimizer.minimizer.errors[ix]\n",
    "    for pary in pars:\n",
    "        if parx == pary:\n",
    "            continue\n",
    "        iy = minimizer.index_by_name(pary)\n",
    "        sig_y = minimizer.minimizer.errors[iy]\n",
    "        r = minimizer.minimizer.covariance[ix, iy] / sig_x / sig_y\n",
    "        arr_parx.append(parx)\n",
    "        arr_pary.append(pary)\n",
    "        arr_sig_x.append(sig_x)\n",
    "        arr_sig_y.append(sig_y)\n",
    "        arr_r.append(r)\n",
    "#         print(parx, pary, sig_x, sig_y, r)\n",
    "# sig_y=minimizer.minimizer.errors[iy]\n",
    "# r=minimizer.minimizer.covariance[ix,iy]/sig_x/sig_y"
   ]
  },
  {
   "cell_type": "code",
   "execution_count": null,
   "metadata": {},
   "outputs": [],
   "source": [
    "np.savez(\n",
    "    folder_figs + flag_fig,\n",
    "    arr_parx=np.array(arr_parx),\n",
    "    arr_pary=np.array(arr_pary),\n",
    "    arr_sig_x=np.array(arr_sig_x),\n",
    "    arr_sig_y=np.array(arr_sig_y),\n",
    "    arr_r=np.array(arr_r),\n",
    ")"
   ]
  },
  {
   "cell_type": "code",
   "execution_count": null,
   "metadata": {},
   "outputs": [],
   "source": []
  },
  {
   "cell_type": "markdown",
   "metadata": {},
   "source": [
    "### Plot results"
   ]
  },
  {
   "cell_type": "code",
   "execution_count": null,
   "metadata": {},
   "outputs": [],
   "source": [
    "minimizer.plot_best_fit(plot_every_iz=2)"
   ]
  },
  {
   "cell_type": "code",
   "execution_count": null,
   "metadata": {},
   "outputs": [],
   "source": [
    "minimizer.plot_ellipses(\"As\", \"ns\")"
   ]
  },
  {
   "cell_type": "code",
   "execution_count": null,
   "metadata": {},
   "outputs": [],
   "source": [
    "# minimizer.plot_ellipses(\"ln_gamma_0\", \"ln_sigT_kms_0\")"
   ]
  },
  {
   "cell_type": "code",
   "execution_count": null,
   "metadata": {},
   "outputs": [],
   "source": [
    "# minimizer.plot_ellipses('ln_tau_0','ln_tau_1',cube_values=True)"
   ]
  },
  {
   "cell_type": "code",
   "execution_count": 27,
   "metadata": {},
   "outputs": [
    {
     "data": {
      "text/html": [
       "<table>\n",
       "    <tr>\n",
       "        <th colspan=\"5\" style=\"text-align:center\" title=\"Minimizer\"> Migrad </th>\n",
       "    </tr>\n",
       "    <tr>\n",
       "        <td colspan=\"2\" style=\"text-align:left\" title=\"Minimum value of function\"> FCN = -450.9 </td>\n",
       "        <td colspan=\"3\" style=\"text-align:center\" title=\"Total number of function and (optional) gradient evaluations\"> Nfcn = 472 </td>\n",
       "    </tr>\n",
       "    <tr>\n",
       "        <td colspan=\"2\" style=\"text-align:left\" title=\"Estimated distance to minimum and goal\"> EDM = 1.95e-05 (Goal: 0.0001) </td>\n",
       "        <td colspan=\"3\" style=\"text-align:center\" title=\"Total run time of algorithms\"> time = 4.3 sec </td>\n",
       "    </tr>\n",
       "    <tr>\n",
       "        <td colspan=\"2\" style=\"text-align:center;background-color:#92CCA6;color:black\"> Valid Minimum </td>\n",
       "        <td colspan=\"3\" style=\"text-align:center;background-color:#92CCA6;color:black\"> No Parameters at limit </td>\n",
       "    </tr>\n",
       "    <tr>\n",
       "        <td colspan=\"2\" style=\"text-align:center;background-color:#92CCA6;color:black\"> Below EDM threshold (goal x 10) </td>\n",
       "        <td colspan=\"3\" style=\"text-align:center;background-color:#92CCA6;color:black\"> Below call limit </td>\n",
       "    </tr>\n",
       "    <tr>\n",
       "        <td style=\"text-align:center;background-color:#92CCA6;color:black\"> Covariance </td>\n",
       "        <td style=\"text-align:center;background-color:#92CCA6;color:black\"> Hesse ok </td>\n",
       "        <td style=\"text-align:center;background-color:#FFF79A;color:black\" title=\"Is covariance matrix accurate?\"> APPROXIMATE </td>\n",
       "        <td style=\"text-align:center;background-color:#c15ef7;color:black\" title=\"Is covariance matrix positive definite?\"> NOT pos. def. </td>\n",
       "        <td style=\"text-align:center;background-color:#c15ef7;color:black\" title=\"Was positive definiteness enforced by Minuit?\"> FORCED </td>\n",
       "    </tr>\n",
       "</table><table>\n",
       "    <tr>\n",
       "        <td></td>\n",
       "        <th title=\"Variable name\"> Name </th>\n",
       "        <th title=\"Value of parameter\"> Value </th>\n",
       "        <th title=\"Hesse error\"> Hesse Error </th>\n",
       "        <th title=\"Minos lower error\"> Minos Error- </th>\n",
       "        <th title=\"Minos upper error\"> Minos Error+ </th>\n",
       "        <th title=\"Lower limit of the parameter\"> Limit- </th>\n",
       "        <th title=\"Upper limit of the parameter\"> Limit+ </th>\n",
       "        <th title=\"Is the parameter fixed in the fit\"> Fixed </th>\n",
       "    </tr>\n",
       "    <tr>\n",
       "        <th> 0 </th>\n",
       "        <td> x0 </td>\n",
       "        <td> 0.500 </td>\n",
       "        <td> 0.007 </td>\n",
       "        <td>  </td>\n",
       "        <td>  </td>\n",
       "        <td>  </td>\n",
       "        <td>  </td>\n",
       "        <td>  </td>\n",
       "    </tr>\n",
       "    <tr>\n",
       "        <th> 1 </th>\n",
       "        <td> x1 </td>\n",
       "        <td> 0.50 </td>\n",
       "        <td> 0.01 </td>\n",
       "        <td>  </td>\n",
       "        <td>  </td>\n",
       "        <td>  </td>\n",
       "        <td>  </td>\n",
       "        <td>  </td>\n",
       "    </tr>\n",
       "    <tr>\n",
       "        <th> 2 </th>\n",
       "        <td> x2 </td>\n",
       "        <td> 0.500 </td>\n",
       "        <td> 0.008 </td>\n",
       "        <td>  </td>\n",
       "        <td>  </td>\n",
       "        <td>  </td>\n",
       "        <td>  </td>\n",
       "        <td>  </td>\n",
       "    </tr>\n",
       "    <tr>\n",
       "        <th> 3 </th>\n",
       "        <td> x3 </td>\n",
       "        <td> 0.500 </td>\n",
       "        <td> 0.005 </td>\n",
       "        <td>  </td>\n",
       "        <td>  </td>\n",
       "        <td>  </td>\n",
       "        <td>  </td>\n",
       "        <td>  </td>\n",
       "    </tr>\n",
       "    <tr>\n",
       "        <th> 4 </th>\n",
       "        <td> x4 </td>\n",
       "        <td> 0.50 </td>\n",
       "        <td> 0.01 </td>\n",
       "        <td>  </td>\n",
       "        <td>  </td>\n",
       "        <td>  </td>\n",
       "        <td>  </td>\n",
       "        <td>  </td>\n",
       "    </tr>\n",
       "    <tr>\n",
       "        <th> 5 </th>\n",
       "        <td> x5 </td>\n",
       "        <td> 0.500 </td>\n",
       "        <td> 0.019 </td>\n",
       "        <td>  </td>\n",
       "        <td>  </td>\n",
       "        <td>  </td>\n",
       "        <td>  </td>\n",
       "        <td>  </td>\n",
       "    </tr>\n",
       "    <tr>\n",
       "        <th> 6 </th>\n",
       "        <td> x6 </td>\n",
       "        <td> 0.500 </td>\n",
       "        <td> 0.014 </td>\n",
       "        <td>  </td>\n",
       "        <td>  </td>\n",
       "        <td>  </td>\n",
       "        <td>  </td>\n",
       "        <td>  </td>\n",
       "    </tr>\n",
       "    <tr>\n",
       "        <th> 7 </th>\n",
       "        <td> x7 </td>\n",
       "        <td> 0.500 </td>\n",
       "        <td> 0.021 </td>\n",
       "        <td>  </td>\n",
       "        <td>  </td>\n",
       "        <td>  </td>\n",
       "        <td>  </td>\n",
       "        <td>  </td>\n",
       "    </tr>\n",
       "    <tr>\n",
       "        <th> 8 </th>\n",
       "        <td> x8 </td>\n",
       "        <td> 0.500 </td>\n",
       "        <td> 0.024 </td>\n",
       "        <td>  </td>\n",
       "        <td>  </td>\n",
       "        <td>  </td>\n",
       "        <td>  </td>\n",
       "        <td>  </td>\n",
       "    </tr>\n",
       "    <tr>\n",
       "        <th> 9 </th>\n",
       "        <td> x9 </td>\n",
       "        <td> 0.50 </td>\n",
       "        <td> 0.04 </td>\n",
       "        <td>  </td>\n",
       "        <td>  </td>\n",
       "        <td>  </td>\n",
       "        <td>  </td>\n",
       "        <td>  </td>\n",
       "    </tr>\n",
       "</table><table>\n",
       "    <tr>\n",
       "        <td></td>\n",
       "        <th> x0 </th>\n",
       "        <th> x1 </th>\n",
       "        <th> x2 </th>\n",
       "        <th> x3 </th>\n",
       "        <th> x4 </th>\n",
       "        <th> x5 </th>\n",
       "        <th> x6 </th>\n",
       "        <th> x7 </th>\n",
       "        <th> x8 </th>\n",
       "        <th> x9 </th>\n",
       "    </tr>\n",
       "    <tr>\n",
       "        <th> x0 </th>\n",
       "        <td> 5.16e-05 </td>\n",
       "        <td style=\"background-color:rgb(178,178,250);color:black\"> -3.88e-05 <strong>(-0.558)</strong> </td>\n",
       "        <td style=\"background-color:rgb(136,136,250);color:black\"> -5.31e-05 <strong>(-0.880)</strong> </td>\n",
       "        <td style=\"background-color:rgb(152,152,250);color:black\"> -2.69e-05 <strong>(-0.757)</strong> </td>\n",
       "        <td style=\"background-color:rgb(152,152,250);color:black\"> -5.25e-05 <strong>(-0.751)</strong> </td>\n",
       "        <td style=\"background-color:rgb(250,214,214);color:black\"> 3.25e-05 <strong>(0.238)</strong> </td>\n",
       "        <td style=\"background-color:rgb(159,159,250);color:black\"> -7.14e-05 <strong>(-0.702)</strong> </td>\n",
       "        <td style=\"background-color:rgb(250,243,243);color:black\"> 6.58e-06 <strong>(0.045)</strong> </td>\n",
       "        <td style=\"background-color:rgb(146,146,250);color:black\"> -0.00014 <strong>(-0.803)</strong> </td>\n",
       "        <td style=\"background-color:rgb(250,250,250);color:black\"> -8.11e-07 <strong>(-0.003)</strong> </td>\n",
       "    </tr>\n",
       "    <tr>\n",
       "        <th> x1 </th>\n",
       "        <td style=\"background-color:rgb(178,178,250);color:black\"> -3.88e-05 <strong>(-0.558)</strong> </td>\n",
       "        <td> 9.38e-05 </td>\n",
       "        <td style=\"background-color:rgb(250,171,171);color:black\"> 4.31e-05 <strong>(0.530)</strong> </td>\n",
       "        <td style=\"background-color:rgb(250,218,218);color:black\"> 1.04e-05 <strong>(0.216)</strong> </td>\n",
       "        <td style=\"background-color:rgb(250,157,157);color:black\"> 5.84e-05 <strong>(0.620)</strong> </td>\n",
       "        <td style=\"background-color:rgb(153,153,250);color:black\"> -0.000137 <strong>(-0.746)</strong> </td>\n",
       "        <td style=\"background-color:rgb(250,172,172);color:black\"> 7.15e-05 <strong>(0.521)</strong> </td>\n",
       "        <td style=\"background-color:rgb(240,240,250);color:black\"> -1.57e-05 <strong>(-0.079)</strong> </td>\n",
       "        <td style=\"background-color:rgb(250,153,153);color:black\"> 0.000152 <strong>(0.646)</strong> </td>\n",
       "        <td style=\"background-color:rgb(250,244,244);color:black\"> 1.72e-05 <strong>(0.041)</strong> </td>\n",
       "    </tr>\n",
       "    <tr>\n",
       "        <th> x2 </th>\n",
       "        <td style=\"background-color:rgb(136,136,250);color:black\"> -5.31e-05 <strong>(-0.880)</strong> </td>\n",
       "        <td style=\"background-color:rgb(250,171,171);color:black\"> 4.31e-05 <strong>(0.530)</strong> </td>\n",
       "        <td> 7.05e-05 </td>\n",
       "        <td style=\"background-color:rgb(250,165,165);color:black\"> 2.36e-05 <strong>(0.569)</strong> </td>\n",
       "        <td style=\"background-color:rgb(250,120,120);color:black\"> 7.1e-05 <strong>(0.869)</strong> </td>\n",
       "        <td style=\"background-color:rgb(206,206,250);color:black\"> -5.4e-05 <strong>(-0.339)</strong> </td>\n",
       "        <td style=\"background-color:rgb(250,134,134);color:black\"> 9.21e-05 <strong>(0.774)</strong> </td>\n",
       "        <td style=\"background-color:rgb(250,248,248);color:black\"> 2.22e-06 <strong>(0.013)</strong> </td>\n",
       "        <td style=\"background-color:rgb(250,127,127);color:black\"> 0.000167 <strong>(0.820)</strong> </td>\n",
       "        <td style=\"background-color:rgb(247,247,250);color:black\"> -9.16e-06 <strong>(-0.025)</strong> </td>\n",
       "    </tr>\n",
       "    <tr>\n",
       "        <th> x3 </th>\n",
       "        <td style=\"background-color:rgb(152,152,250);color:black\"> -2.69e-05 <strong>(-0.757)</strong> </td>\n",
       "        <td style=\"background-color:rgb(250,218,218);color:black\"> 1.04e-05 <strong>(0.216)</strong> </td>\n",
       "        <td style=\"background-color:rgb(250,165,165);color:black\"> 2.36e-05 <strong>(0.569)</strong> </td>\n",
       "        <td> 2.45e-05 </td>\n",
       "        <td style=\"background-color:rgb(250,183,183);color:black\"> 2.14e-05 <strong>(0.445)</strong> </td>\n",
       "        <td style=\"background-color:rgb(246,246,250);color:black\"> -3.01e-06 <strong>(-0.032)</strong> </td>\n",
       "        <td style=\"background-color:rgb(250,177,177);color:black\"> 3.43e-05 <strong>(0.489)</strong> </td>\n",
       "        <td style=\"background-color:rgb(250,210,210);color:black\"> 2.75e-05 <strong>(0.270)</strong> </td>\n",
       "        <td style=\"background-color:rgb(250,167,167);color:black\"> 6.67e-05 <strong>(0.556)</strong> </td>\n",
       "        <td style=\"background-color:rgb(238,238,250);color:black\"> -2.04e-05 <strong>(-0.096)</strong> </td>\n",
       "    </tr>\n",
       "    <tr>\n",
       "        <th> x4 </th>\n",
       "        <td style=\"background-color:rgb(152,152,250);color:black\"> -5.25e-05 <strong>(-0.751)</strong> </td>\n",
       "        <td style=\"background-color:rgb(250,157,157);color:black\"> 5.84e-05 <strong>(0.620)</strong> </td>\n",
       "        <td style=\"background-color:rgb(250,120,120);color:black\"> 7.1e-05 <strong>(0.869)</strong> </td>\n",
       "        <td style=\"background-color:rgb(250,183,183);color:black\"> 2.14e-05 <strong>(0.445)</strong> </td>\n",
       "        <td> 9.48e-05 </td>\n",
       "        <td style=\"background-color:rgb(218,218,250);color:black\"> -4.53e-05 <strong>(-0.245)</strong> </td>\n",
       "        <td style=\"background-color:rgb(250,148,148);color:black\"> 9.35e-05 <strong>(0.678)</strong> </td>\n",
       "        <td style=\"background-color:rgb(250,249,249);color:black\"> 1.69e-06 <strong>(0.008)</strong> </td>\n",
       "        <td style=\"background-color:rgb(250,120,120);color:black\"> 0.000206 <strong>(0.870)</strong> </td>\n",
       "        <td style=\"background-color:rgb(235,235,250);color:black\"> -4.98e-05 <strong>(-0.119)</strong> </td>\n",
       "    </tr>\n",
       "    <tr>\n",
       "        <th> x5 </th>\n",
       "        <td style=\"background-color:rgb(250,214,214);color:black\"> 3.25e-05 <strong>(0.238)</strong> </td>\n",
       "        <td style=\"background-color:rgb(153,153,250);color:black\"> -0.000137 <strong>(-0.746)</strong> </td>\n",
       "        <td style=\"background-color:rgb(206,206,250);color:black\"> -5.4e-05 <strong>(-0.339)</strong> </td>\n",
       "        <td style=\"background-color:rgb(246,246,250);color:black\"> -3.01e-06 <strong>(-0.032)</strong> </td>\n",
       "        <td style=\"background-color:rgb(218,218,250);color:black\"> -4.53e-05 <strong>(-0.245)</strong> </td>\n",
       "        <td> 0.000361 </td>\n",
       "        <td style=\"background-color:rgb(203,203,250);color:black\"> -9.69e-05 <strong>(-0.360)</strong> </td>\n",
       "        <td style=\"background-color:rgb(240,240,250);color:black\"> -2.97e-05 <strong>(-0.076)</strong> </td>\n",
       "        <td style=\"background-color:rgb(209,209,250);color:black\"> -0.000147 <strong>(-0.319)</strong> </td>\n",
       "        <td style=\"background-color:rgb(243,243,250);color:black\"> -4.66e-05 <strong>(-0.057)</strong> </td>\n",
       "    </tr>\n",
       "    <tr>\n",
       "        <th> x6 </th>\n",
       "        <td style=\"background-color:rgb(159,159,250);color:black\"> -7.14e-05 <strong>(-0.702)</strong> </td>\n",
       "        <td style=\"background-color:rgb(250,172,172);color:black\"> 7.15e-05 <strong>(0.521)</strong> </td>\n",
       "        <td style=\"background-color:rgb(250,134,134);color:black\"> 9.21e-05 <strong>(0.774)</strong> </td>\n",
       "        <td style=\"background-color:rgb(250,177,177);color:black\"> 3.43e-05 <strong>(0.489)</strong> </td>\n",
       "        <td style=\"background-color:rgb(250,148,148);color:black\"> 9.35e-05 <strong>(0.678)</strong> </td>\n",
       "        <td style=\"background-color:rgb(203,203,250);color:black\"> -9.69e-05 <strong>(-0.360)</strong> </td>\n",
       "        <td> 0.000201 </td>\n",
       "        <td style=\"background-color:rgb(224,224,250);color:black\"> -5.75e-05 <strong>(-0.197)</strong> </td>\n",
       "        <td style=\"background-color:rgb(250,118,118);color:black\"> 0.000302 <strong>(0.878)</strong> </td>\n",
       "        <td style=\"background-color:rgb(238,238,250);color:black\"> -5.75e-05 <strong>(-0.094)</strong> </td>\n",
       "    </tr>\n",
       "    <tr>\n",
       "        <th> x7 </th>\n",
       "        <td style=\"background-color:rgb(250,243,243);color:black\"> 6.58e-06 <strong>(0.045)</strong> </td>\n",
       "        <td style=\"background-color:rgb(240,240,250);color:black\"> -1.57e-05 <strong>(-0.079)</strong> </td>\n",
       "        <td style=\"background-color:rgb(250,248,248);color:black\"> 2.22e-06 <strong>(0.013)</strong> </td>\n",
       "        <td style=\"background-color:rgb(250,210,210);color:black\"> 2.75e-05 <strong>(0.270)</strong> </td>\n",
       "        <td style=\"background-color:rgb(250,249,249);color:black\"> 1.69e-06 <strong>(0.008)</strong> </td>\n",
       "        <td style=\"background-color:rgb(240,240,250);color:black\"> -2.97e-05 <strong>(-0.076)</strong> </td>\n",
       "        <td style=\"background-color:rgb(224,224,250);color:black\"> -5.75e-05 <strong>(-0.197)</strong> </td>\n",
       "        <td> 0.000423 </td>\n",
       "        <td style=\"background-color:rgb(242,242,250);color:black\"> -2.94e-05 <strong>(-0.059)</strong> </td>\n",
       "        <td style=\"background-color:rgb(247,247,250);color:black\"> -1.89e-05 <strong>(-0.021)</strong> </td>\n",
       "    </tr>\n",
       "    <tr>\n",
       "        <th> x8 </th>\n",
       "        <td style=\"background-color:rgb(146,146,250);color:black\"> -0.00014 <strong>(-0.803)</strong> </td>\n",
       "        <td style=\"background-color:rgb(250,153,153);color:black\"> 0.000152 <strong>(0.646)</strong> </td>\n",
       "        <td style=\"background-color:rgb(250,127,127);color:black\"> 0.000167 <strong>(0.820)</strong> </td>\n",
       "        <td style=\"background-color:rgb(250,167,167);color:black\"> 6.67e-05 <strong>(0.556)</strong> </td>\n",
       "        <td style=\"background-color:rgb(250,120,120);color:black\"> 0.000206 <strong>(0.870)</strong> </td>\n",
       "        <td style=\"background-color:rgb(209,209,250);color:black\"> -0.000147 <strong>(-0.319)</strong> </td>\n",
       "        <td style=\"background-color:rgb(250,118,118);color:black\"> 0.000302 <strong>(0.878)</strong> </td>\n",
       "        <td style=\"background-color:rgb(242,242,250);color:black\"> -2.94e-05 <strong>(-0.059)</strong> </td>\n",
       "        <td> 0.000589 </td>\n",
       "        <td style=\"background-color:rgb(250,250,250);color:black\"> -1.51e-06 <strong>(-0.001)</strong> </td>\n",
       "    </tr>\n",
       "    <tr>\n",
       "        <th> x9 </th>\n",
       "        <td style=\"background-color:rgb(250,250,250);color:black\"> -8.11e-07 <strong>(-0.003)</strong> </td>\n",
       "        <td style=\"background-color:rgb(250,244,244);color:black\"> 1.72e-05 <strong>(0.041)</strong> </td>\n",
       "        <td style=\"background-color:rgb(247,247,250);color:black\"> -9.16e-06 <strong>(-0.025)</strong> </td>\n",
       "        <td style=\"background-color:rgb(238,238,250);color:black\"> -2.04e-05 <strong>(-0.096)</strong> </td>\n",
       "        <td style=\"background-color:rgb(235,235,250);color:black\"> -4.98e-05 <strong>(-0.119)</strong> </td>\n",
       "        <td style=\"background-color:rgb(243,243,250);color:black\"> -4.66e-05 <strong>(-0.057)</strong> </td>\n",
       "        <td style=\"background-color:rgb(238,238,250);color:black\"> -5.75e-05 <strong>(-0.094)</strong> </td>\n",
       "        <td style=\"background-color:rgb(247,247,250);color:black\"> -1.89e-05 <strong>(-0.021)</strong> </td>\n",
       "        <td style=\"background-color:rgb(250,250,250);color:black\"> -1.51e-06 <strong>(-0.001)</strong> </td>\n",
       "        <td> 0.00186 </td>\n",
       "    </tr>\n",
       "</table>"
      ],
      "text/plain": [
       "┌─────────────────────────────────────────────────────────────────────────┐\n",
       "│                                Migrad                                   │\n",
       "├──────────────────────────────────┬──────────────────────────────────────┤\n",
       "│ FCN = -450.9                     │              Nfcn = 472              │\n",
       "│ EDM = 1.95e-05 (Goal: 0.0001)    │            time = 4.3 sec            │\n",
       "├──────────────────────────────────┼──────────────────────────────────────┤\n",
       "│          Valid Minimum           │        No Parameters at limit        │\n",
       "├──────────────────────────────────┼──────────────────────────────────────┤\n",
       "│ Below EDM threshold (goal x 10)  │           Below call limit           │\n",
       "├───────────────┬──────────────────┼───────────┬─────────────┬────────────┤\n",
       "│  Covariance   │     Hesse ok     │APPROXIMATE│NOT pos. def.│   FORCED   │\n",
       "└───────────────┴──────────────────┴───────────┴─────────────┴────────────┘\n",
       "┌───┬──────┬───────────┬───────────┬────────────┬────────────┬─────────┬─────────┬───────┐\n",
       "│   │ Name │   Value   │ Hesse Err │ Minos Err- │ Minos Err+ │ Limit-  │ Limit+  │ Fixed │\n",
       "├───┼──────┼───────────┼───────────┼────────────┼────────────┼─────────┼─────────┼───────┤\n",
       "│ 0 │ x0   │   0.500   │   0.007   │            │            │         │         │       │\n",
       "│ 1 │ x1   │   0.50    │   0.01    │            │            │         │         │       │\n",
       "│ 2 │ x2   │   0.500   │   0.008   │            │            │         │         │       │\n",
       "│ 3 │ x3   │   0.500   │   0.005   │            │            │         │         │       │\n",
       "│ 4 │ x4   │   0.50    │   0.01    │            │            │         │         │       │\n",
       "│ 5 │ x5   │   0.500   │   0.019   │            │            │         │         │       │\n",
       "│ 6 │ x6   │   0.500   │   0.014   │            │            │         │         │       │\n",
       "│ 7 │ x7   │   0.500   │   0.021   │            │            │         │         │       │\n",
       "│ 8 │ x8   │   0.500   │   0.024   │            │            │         │         │       │\n",
       "│ 9 │ x9   │   0.50    │   0.04    │            │            │         │         │       │\n",
       "└───┴──────┴───────────┴───────────┴────────────┴────────────┴─────────┴─────────┴───────┘\n",
       "┌────┬─────────────────────────────────────────────────────────────────────────────────────────────────────┐\n",
       "│    │        x0        x1        x2        x3        x4        x5        x6        x7        x8        x9 │\n",
       "├────┼─────────────────────────────────────────────────────────────────────────────────────────────────────┤\n",
       "│ x0 │  5.16e-05 -3.88e-05 -5.31e-05 -2.69e-05 -5.25e-05  3.25e-05 -7.14e-05  6.58e-06  -0.00014 -8.11e-07 │\n",
       "│ x1 │ -3.88e-05  9.38e-05  4.31e-05  1.04e-05  5.84e-05 -0.000137  7.15e-05 -1.57e-05  0.000152  1.72e-05 │\n",
       "│ x2 │ -5.31e-05  4.31e-05  7.05e-05  2.36e-05   7.1e-05  -5.4e-05  9.21e-05  2.22e-06  0.000167 -9.16e-06 │\n",
       "│ x3 │ -2.69e-05  1.04e-05  2.36e-05  2.45e-05  2.14e-05 -3.01e-06  3.43e-05  2.75e-05  6.67e-05 -2.04e-05 │\n",
       "│ x4 │ -5.25e-05  5.84e-05   7.1e-05  2.14e-05  9.48e-05 -4.53e-05  9.35e-05  1.69e-06  0.000206 -4.98e-05 │\n",
       "│ x5 │  3.25e-05 -0.000137  -5.4e-05 -3.01e-06 -4.53e-05  0.000361 -9.69e-05 -2.97e-05 -0.000147 -4.66e-05 │\n",
       "│ x6 │ -7.14e-05  7.15e-05  9.21e-05  3.43e-05  9.35e-05 -9.69e-05  0.000201 -5.75e-05  0.000302 -5.75e-05 │\n",
       "│ x7 │  6.58e-06 -1.57e-05  2.22e-06  2.75e-05  1.69e-06 -2.97e-05 -5.75e-05  0.000423 -2.94e-05 -1.89e-05 │\n",
       "│ x8 │  -0.00014  0.000152  0.000167  6.67e-05  0.000206 -0.000147  0.000302 -2.94e-05  0.000589 -1.51e-06 │\n",
       "│ x9 │ -8.11e-07  1.72e-05 -9.16e-06 -2.04e-05 -4.98e-05 -4.66e-05 -5.75e-05 -1.89e-05 -1.51e-06   0.00186 │\n",
       "└────┴─────────────────────────────────────────────────────────────────────────────────────────────────────┘"
      ]
     },
     "execution_count": 27,
     "metadata": {},
     "output_type": "execute_result"
    }
   ],
   "source": [
    "minimizer.minimizer.migrad()"
   ]
  },
  {
   "cell_type": "code",
   "execution_count": 28,
   "metadata": {},
   "outputs": [
    {
     "data": {
      "text/plain": [
       "<ErrorView x0=0.007182573383119303 x1=0.009683395320052057 x2=0.008397456650263806 x3=0.004946961451697836 x4=0.009735875099340019 x5=0.018997985027659828 x6=0.01416937392021164 x7=0.02055879700507478 x8=0.02426883254905494 x9=0.043071015780772194>"
      ]
     },
     "execution_count": 28,
     "metadata": {},
     "output_type": "execute_result"
    }
   ],
   "source": [
    "minimizer.minimizer.errors"
   ]
  },
  {
   "cell_type": "code",
   "execution_count": 29,
   "metadata": {},
   "outputs": [
    {
     "data": {
      "text/plain": [
       "(8.547653724544357e-07, 0.0016794913300527611)"
      ]
     },
     "execution_count": 29,
     "metadata": {},
     "output_type": "execute_result"
    }
   ],
   "source": [
    "minimizer.best_fit_value('ln_tau_0',return_hesse=True)"
   ]
  },
  {
   "cell_type": "code",
   "execution_count": 30,
   "metadata": {},
   "outputs": [
    {
     "data": {
      "text/plain": [
       "(0.9649998966346979, 0.00164617720440885)"
      ]
     },
     "execution_count": 30,
     "metadata": {},
     "output_type": "execute_result"
    }
   ],
   "source": [
    "minimizer.best_fit_value('ns',return_hesse=True)"
   ]
  },
  {
   "cell_type": "code",
   "execution_count": null,
   "metadata": {},
   "outputs": [],
   "source": []
  },
  {
   "cell_type": "markdown",
   "metadata": {},
   "source": [
    "## Plot results all"
   ]
  },
  {
   "cell_type": "code",
   "execution_count": 69,
   "metadata": {},
   "outputs": [],
   "source": [
    "from matplotlib.patches import Ellipse"
   ]
  },
  {
   "cell_type": "code",
   "execution_count": 78,
   "metadata": {},
   "outputs": [],
   "source": [
    "data_label = \"QMLE_Ohio\"\n",
    "data_label = \"Chabanier2019\"\n",
    "\n",
    "folder_figs = os.path.abspath(\".\") + \"/fig_max_like_mock/\" + data_label + \"_\"\n",
    "\n",
    "# emulator_label = [\"mpg_gp_hr\", \"mpg_gp_lr\", \"mpg_nn_lr\", \"nyx_nn_lr\"]\n",
    "emulator_label = [\"mpg_gp_lr\", \"mpg_nn_lr\", \"nyx_nn_lr\"]\n",
    "\n",
    "dat = []\n",
    "for lab in emulator_label:\n",
    "    dat.append(np.load(folder_figs + lab + \".npz\"))"
   ]
  },
  {
   "cell_type": "code",
   "execution_count": 79,
   "metadata": {},
   "outputs": [
    {
     "data": {
      "text/plain": [
       "['arr_parx', 'arr_pary', 'arr_sig_x', 'arr_sig_y', 'arr_r']"
      ]
     },
     "execution_count": 79,
     "metadata": {},
     "output_type": "execute_result"
    }
   ],
   "source": [
    "dat[0].files"
   ]
  },
  {
   "cell_type": "code",
   "execution_count": 81,
   "metadata": {},
   "outputs": [
    {
     "data": {
      "image/png": "[encoded data removed]",
      "text/plain": [
       "<Figure size 896x672 with 1 Axes>"
      ]
     },
     "metadata": {},
     "output_type": "display_data"
    }
   ],
   "source": [
    "sig_xm = 0\n",
    "sig_ym = 0\n",
    "\n",
    "for jj, lab in enumerate(emulator_label):\n",
    "\n",
    "    ii = 0\n",
    "    nsig = 1\n",
    "    pname_x = dat[jj][\"arr_parx\"][ii]\n",
    "    pname_y = dat[jj][\"arr_pary\"][ii]\n",
    "    sig_x = dat[jj][\"arr_sig_x\"][ii]\n",
    "    if sig_x > sig_xm:\n",
    "        sig_xm = sig_x * 1\n",
    "    sig_y = dat[jj][\"arr_sig_x\"][ii]\n",
    "    if sig_y > sig_ym:\n",
    "        sig_ym = sig_y * 1\n",
    "    r = dat[jj][\"arr_r\"][ii]\n",
    "    val_x = 0\n",
    "    val_y = 0\n",
    "\n",
    "    w, v = np.linalg.eig(\n",
    "        np.array(\n",
    "            [[sig_x**2, sig_x * sig_y * r], [sig_x * sig_y * r, sig_y**2]]\n",
    "        )\n",
    "    )\n",
    "\n",
    "    # semi-major and semi-minor axis of ellipse\n",
    "    a = np.sqrt(w[0])\n",
    "    b = np.sqrt(w[1])\n",
    "\n",
    "    # figure out inclination angle of ellipse\n",
    "    alpha = np.arccos(v[0, 0])\n",
    "    if v[1, 0] < 0:\n",
    "        alpha = -alpha\n",
    "    # compute angle in degrees (expected by matplotlib)\n",
    "    alpha_deg = alpha * 180 / np.pi\n",
    "\n",
    "    # make plot\n",
    "    fig = plt.subplot(111)\n",
    "    for isig in range(1, nsig + 1):\n",
    "        if isig == 1:\n",
    "            lab0 = lab\n",
    "        else:\n",
    "            lab0 = None\n",
    "        ell = Ellipse(\n",
    "            (val_x, val_y),\n",
    "            2 * isig * a,\n",
    "            2 * isig * b,\n",
    "            alpha_deg,\n",
    "            label=lab0,\n",
    "            color=\"C\" + str(jj),\n",
    "        )\n",
    "        ell.set_alpha(0.6 / isig)\n",
    "        fig.add_artist(ell)\n",
    "\n",
    "plt.legend()\n",
    "plt.xlabel(pname_x + \"-\" + pname_x + \"_0\")\n",
    "plt.ylabel(pname_y + \"-\" + pname_y + \"_0\")\n",
    "plt.xlim(val_x - (nsig + 1) * sig_xm, val_x + (nsig + 1) * sig_xm)\n",
    "plt.ylim(val_y - (nsig + 1) * sig_ym, val_y + (nsig + 1) * sig_ym)\n",
    "plt.savefig(folder_figs + \"As_ns.png\")"
   ]
  },
  {
   "cell_type": "code",
   "execution_count": null,
   "metadata": {},
   "outputs": [],
   "source": []
  },
  {
   "cell_type": "code",
   "execution_count": null,
   "metadata": {},
   "outputs": [],
   "source": []
  }
 ],
 "metadata": {
  "kernelspec": {
   "display_name": "Python 3 (ipykernel)",
   "language": "python",
   "name": "python3"
  },
  "language_info": {
   "codemirror_mode": {
    "name": "ipython",
    "version": 3
   },
   "file_extension": ".py",
   "mimetype": "text/x-python",
   "name": "python",
   "nbconvert_exporter": "python",
   "pygments_lexer": "ipython3",
   "version": "3.9.13"
  }
 },
 "nbformat": 4,
 "nbformat_minor": 4
}
