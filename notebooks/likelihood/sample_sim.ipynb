{
 "cells": [
  {
   "cell_type": "markdown",
   "metadata": {},
   "source": [
    "## Sample test simulation\n",
    "\n",
    "This notebook contains the basic syntax required to run a chain. We set up a mock data object from a test sim, construct an emulator and likelihood object, and pass these to a sampler to run for a small number of steps."
   ]
  },
  {
   "cell_type": "code",
   "execution_count": null,
   "metadata": {},
   "outputs": [],
   "source": [
    "%matplotlib inline\n",
    "import matplotlib.pyplot as plt\n",
    "import matplotlib as mpl\n",
    "\n",
    "mpl.rcParams[\"savefig.dpi\"] = 140\n",
    "mpl.rcParams[\"figure.dpi\"] = 140\n",
    "import numpy as np\n",
    "import time\n",
    "import os\n",
    "\n",
    "# our own modules\n",
    "from lace.archive import gadget_archive\n",
    "from lace.archive import nyx_archive\n",
    "from lace.emulator import gp_emulator\n",
    "from lace.emulator import nn_emulator\n",
    "from cup1d.data import data_gadget\n",
    "from cup1d.data import data_nyx\n",
    "from cup1d.likelihood import lya_theory\n",
    "from cup1d.likelihood import likelihood\n",
    "from cup1d.likelihood import emcee_sampler\n",
    "\n",
    "\n",
    "def is_number(s):\n",
    "    try:\n",
    "        float(s)\n",
    "        return True\n",
    "    except ValueError:\n",
    "        return False"
   ]
  },
  {
   "cell_type": "code",
   "execution_count": null,
   "metadata": {},
   "outputs": [],
   "source": [
    "\n",
    "import black\n",
    "import jupyter_black\n",
    "\n",
    "jupyter_black.load(\n",
    "    lab=False,\n",
    "    line_length=79,\n",
    "    verbosity=\"DEBUG\",\n",
    "    target_version=black.TargetVersion.PY310,\n",
    ")\n"
   ]
  },
  {
   "cell_type": "markdown",
   "metadata": {},
   "source": [
    "### Set up mock data\n",
    "\n",
    "Begin by picking a simulation to use as mock data, and creating a corresponding data object"
   ]
  },
  {
   "cell_type": "markdown",
   "metadata": {},
   "source": [
    "### Read archive"
   ]
  },
  {
   "cell_type": "code",
   "execution_count": null,
   "metadata": {},
   "outputs": [],
   "source": [
    "# specify simulation suite and P1D mesurements\n",
    "drop_sim = True\n",
    "# test_sim_label = \"mpg_central\"\n",
    "test_sim_label = \"mpg_5\"\n",
    "igm_sim_label = \"mpg_reio\""
   ]
  },
  {
   "cell_type": "code",
   "execution_count": null,
   "metadata": {},
   "outputs": [],
   "source": [
    "if test_sim_label[:3] == \"nyx\":\n",
    "    training_set = \"Nyx23_Oct2023\"\n",
    "    emulator_label = \"Nyx_v0\"\n",
    "    archive = nyx_archive.NyxArchive(verbose=True)\n",
    "elif test_sim_label[:3] == \"mpg\":\n",
    "    training_set = \"Cabayol23\"\n",
    "    emulator_label = \"Cabayol23\"\n",
    "    archive = gadget_archive.GadgetArchive(postproc=\"Cabayol23\")"
   ]
  },
  {
   "cell_type": "markdown",
   "metadata": {},
   "source": [
    "### Set emu"
   ]
  },
  {
   "cell_type": "code",
   "execution_count": null,
   "metadata": {},
   "outputs": [],
   "source": [
    "if test_sim_label[:3] == \"nyx\":\n",
    "    if is_number(test_sim_label[-1]) & drop_sim:\n",
    "        emu_path = (\n",
    "            \"NNmodels/Nyx23_Oct2023/Nyx_v0_drop_sim_\" + test_sim_label + \".pt\"\n",
    "        )\n",
    "        drop_sim_val = test_sim_label\n",
    "    else:\n",
    "        emu_path = \"NNmodels/Nyx23_Oct2023/Nyx_v0.pt\"\n",
    "        drop_sim_val = None\n",
    "elif test_sim_label[:3] == \"mpg\":\n",
    "    if is_number(test_sim_label[-1]) & drop_sim:\n",
    "        emu_path = (\n",
    "            \"NNmodels/Cabayol23/Cabayol23_drop_sim_\" + test_sim_label + \".pt\"\n",
    "        )\n",
    "        drop_sim_val = test_sim_label\n",
    "    else:\n",
    "        emu_path = \"NNmodels/Cabayol23/Cabayol23.pt\"\n",
    "        drop_sim_val = None"
   ]
  },
  {
   "cell_type": "code",
   "execution_count": null,
   "metadata": {},
   "outputs": [],
   "source": [
    "emulator = nn_emulator.NNEmulator(\n",
    "    training_set=training_set,\n",
    "    emulator_label=emulator_label,\n",
    "    emu_params=[\"Delta2_p\", \"n_p\", \"mF\", \"sigT_Mpc\", \"gamma\", \"kF_Mpc\"],\n",
    "    model_path=emu_path,\n",
    "    drop_sim=drop_sim_val,\n",
    "    train=False,\n",
    ")"
   ]
  },
  {
   "cell_type": "code",
   "execution_count": null,
   "metadata": {},
   "outputs": [],
   "source": [
    "# setup mock data from sim\n",
    "z_max = 4.5\n",
    "data_label = \"Chabanier2019\"\n",
    "if test_sim_label[:3] == \"nyx\":\n",
    "    data = data_nyx.Nyx_P1D(\n",
    "        archive=archive,\n",
    "        input_sim=test_sim_label,\n",
    "        z_max=z_max,\n",
    "        data_cov_label=data_label,\n",
    "        polyfit_kmax_Mpc=emulator.kmax_Mpc,\n",
    "        polyfit_ndeg=emulator.ndeg,\n",
    "    )\n",
    "else:\n",
    "    data = data_gadget.Gadget_P1D(\n",
    "        archive=archive,\n",
    "        input_sim=test_sim_label,\n",
    "        z_max=z_max,\n",
    "        data_cov_label=data_label,\n",
    "        polyfit_kmax_Mpc=emulator.kmax_Mpc,\n",
    "        polyfit_ndeg=emulator.ndeg,\n",
    "    )"
   ]
  },
  {
   "cell_type": "markdown",
   "metadata": {},
   "source": [
    "### Set up a likelihood\n",
    "\n",
    "Here we chose which parameters we want to sample, over which range and chose a prior. We pass the data and emulator objects to the likelihood."
   ]
  },
  {
   "cell_type": "code",
   "execution_count": null,
   "metadata": {},
   "outputs": [],
   "source": [
    "# stick to primordial power-law parameters here\n",
    "free_param_names = [\"As\", \"ns\"]\n",
    "# specify the number of free parameters per IGM function (default=2, but it would take forever here)\n",
    "n_igm = 2\n",
    "for i in range(n_igm):\n",
    "    for par in [\"tau\", \"sigT_kms\", \"gamma\", \"kF\"]:\n",
    "        free_param_names.append(\"ln_{}_{}\".format(par, i))\n",
    "free_param_names"
   ]
  },
  {
   "cell_type": "code",
   "execution_count": null,
   "metadata": {},
   "outputs": [],
   "source": [
    "theory = lya_theory.Theory(\n",
    "    zs=data.z,\n",
    "    emulator=emulator,\n",
    "    free_param_names=free_param_names,\n",
    "    fid_sim_igm=igm_sim_label,\n",
    "    true_sim_igm=test_sim_label,\n",
    ")"
   ]
  },
  {
   "cell_type": "code",
   "execution_count": null,
   "metadata": {},
   "outputs": [],
   "source": [
    "# option to include/remove a Gaussian prior (in unit cube)\n",
    "prior_Gauss_rms = None\n",
    "# option to include/ignore emulator covariance (it might bias the results)\n",
    "emu_cov_factor = 0\n",
    "like = likelihood.Likelihood(\n",
    "    data=data,\n",
    "    theory=theory,\n",
    "    free_param_names=free_param_names,\n",
    "    prior_Gauss_rms=prior_Gauss_rms,\n",
    "    emu_cov_factor=emu_cov_factor,\n",
    ")"
   ]
  },
  {
   "cell_type": "code",
   "execution_count": null,
   "metadata": {},
   "outputs": [],
   "source": [
    "like.plot_p1d(residuals=True, plot_every_iz=2)"
   ]
  },
  {
   "cell_type": "markdown",
   "metadata": {},
   "source": [
    "### Sampler object\n",
    "\n",
    "Here we configure our sampler, set the number of walkers, and decide whether or not we want to save the chain to be resumed or plot later on."
   ]
  },
  {
   "cell_type": "code",
   "execution_count": null,
   "metadata": {},
   "outputs": [],
   "source": [
    "# Set up sampler\n",
    "rootdir = os.path.dirname(os.environ[\"LACE_REPO\"]) + \"/data/cup1d/sampler/\"\n",
    "sampler = emcee_sampler.EmceeSampler(like=like, progress=True, rootdir=rootdir)"
   ]
  },
  {
   "cell_type": "code",
   "execution_count": null,
   "metadata": {},
   "outputs": [],
   "source": [
    "n_steps = 1000\n",
    "# n_steps = 100\n",
    "if data_label == \"Chabanier2019\":\n",
    "    if n_igm == 0:\n",
    "        n_burn_in = 75\n",
    "    else:\n",
    "        n_burn_in = 250\n",
    "elif data_label == \"QMLE_Ohio\":\n",
    "    if n_igm == 0:\n",
    "        # TBD (need to check)\n",
    "        n_burn_in = 200\n",
    "    else:\n",
    "        n_burn_in = 1200"
   ]
  },
  {
   "cell_type": "code",
   "execution_count": null,
   "metadata": {},
   "outputs": [],
   "source": [
    "for p in like.free_params:\n",
    "    print(p.name, p.value, p.min_value, p.max_value)"
   ]
  },
  {
   "cell_type": "code",
   "execution_count": null,
   "metadata": {},
   "outputs": [],
   "source": [
    "start = time.time()\n",
    "emcee_out = sampler.run_sampler(n_burn_in, n_steps, parallel=False)\n",
    "end = time.time()\n",
    "sampler_time = end - start\n",
    "print(\"Sampling took {0:.1f} seconds\".format(sampler_time))"
   ]
  },
  {
   "cell_type": "code",
   "execution_count": null,
   "metadata": {
    "scrolled": false
   },
   "outputs": [],
   "source": [
    "sampler.write_chain_to_file()"
   ]
  },
  {
   "cell_type": "code",
   "execution_count": null,
   "metadata": {},
   "outputs": [],
   "source": []
  }
 ],
 "metadata": {
  "kernelspec": {
   "display_name": "Python 3 (ipykernel)",
   "language": "python",
   "name": "python3"
  },
  "language_info": {
   "codemirror_mode": {
    "name": "ipython",
    "version": 3
   },
   "file_extension": ".py",
   "mimetype": "text/x-python",
   "name": "python",
   "nbconvert_exporter": "python",
   "pygments_lexer": "ipython3",
   "version": "3.11.5"
  }
 },
 "nbformat": 4,
 "nbformat_minor": 4
}
