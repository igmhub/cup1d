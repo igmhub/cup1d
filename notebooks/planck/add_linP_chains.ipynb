{
 "cells": [
  {
   "cell_type": "markdown",
   "metadata": {},
   "source": [
    "# Add extra column with linear parameters to Planck chains\n",
    "\n",
    "This notebook shows how to read an original chain from Planck (not in cup1d repo), and compute linear power parameters for each point in the chain.\n",
    "\n",
    "Actually, the code is fairly slow, so it only does this for a handful of points in the chain. \n",
    "\n",
    "Heavier work is done with a python script in cup1d/scripts/add_linP_chains.py"
   ]
  },
  {
   "cell_type": "code",
   "execution_count": 1,
   "metadata": {
    "collapsed": false,
    "jupyter": {
     "outputs_hidden": false
    }
   },
   "outputs": [],
   "source": [
    "%load_ext autoreload\n",
    "%autoreload 2\n",
    "import numpy as np\n",
    "import os\n",
    "from getdist import plots\n",
    "from cup1d.planck import planck_chains\n",
    "from cup1d.planck import add_linP_params\n",
    "# because of black magic, getdist needs this strange order of imports\n",
    "%matplotlib inline"
   ]
  },
  {
   "cell_type": "markdown",
   "metadata": {},
   "source": [
    "### Read Planck 2018 chain"
   ]
  },
  {
   "cell_type": "code",
   "execution_count": 2,
   "metadata": {
    "collapsed": false,
    "jupyter": {
     "outputs_hidden": false
    }
   },
   "outputs": [
    {
     "data": {
      "text/plain": [
       "((0.2461608058922021, 0.3761089941077979),\n",
       " (2.9202071783619323, 3.4264598216380677))"
      ]
     },
     "execution_count": 2,
     "metadata": {},
     "output_type": "execute_result"
    },
    {
     "data": {
      "image/png": "[encoded data removed]",
      "text/plain": [
       "<Figure size 432x324 with 1 Axes>"
      ]
     },
     "metadata": {},
     "output_type": "display_data"
    }
   ],
   "source": [
    "# by default the object below would use the chains provided in cup1d, but we want to access original chains here\n",
    "root_dir=os.environ['PLANCK_CHAINS']\n",
    "model='base'\n",
    "data='plikHM_TT'\n",
    "planck2018=planck_chains.get_planck_2018(model=model,data=data,root_dir=root_dir,linP_tag=None)\n",
    "g = plots.getSinglePlotter()\n",
    "g.plot_2d(planck2018['samples'], ['omegam', 'logA'])"
   ]
  },
  {
   "cell_type": "code",
   "execution_count": 3,
   "metadata": {
    "collapsed": false,
    "jupyter": {
     "outputs_hidden": false
    }
   },
   "outputs": [
    {
     "name": "stdout",
     "output_type": "stream",
     "text": [
      "Thinned chains have 9 samples and 83 parameters\n"
     ]
    }
   ],
   "source": [
    "# dramatically reduce sice of chain, for testing\n",
    "samples=planck2018['samples'].copy()\n",
    "thinning=10000\n",
    "samples.thin(thinning)\n",
    "Nsamp,Npar=samples.samples.shape\n",
    "print('Thinned chains have {} samples and {} parameters'.format(Nsamp,Npar))"
   ]
  },
  {
   "cell_type": "markdown",
   "metadata": {},
   "source": [
    "### For each element in the chain, compute setup CAMB object and compute linear power parameters"
   ]
  },
  {
   "cell_type": "code",
   "execution_count": 4,
   "metadata": {
    "collapsed": true,
    "jupyter": {
     "outputs_hidden": true
    }
   },
   "outputs": [],
   "source": [
    "# if set to False, it will not compute parameters describing deviations from EdS (f_star,g_star)\n",
    "z_evol=False"
   ]
  },
  {
   "cell_type": "code",
   "execution_count": 5,
   "metadata": {
    "collapsed": false,
    "jupyter": {
     "outputs_hidden": false
    }
   },
   "outputs": [
    {
     "name": "stdout",
     "output_type": "stream",
     "text": [
      "sample point 0\n",
      "H0 = 6.9211E+01, Omega_bc = 2.8803E-01, A_s = 2.6280E-09, n_s = 9.7850E-01, alpha_s = 0.0000E+00\n",
      "linP params {'Delta2_star': 0.4225964944593785, 'n_star': -2.2924409261020666, 'alpha_star': -0.21323064571349953}\n",
      "sample point 1\n",
      "H0 = 6.6570E+01, Omega_bc = 3.2521E-01, A_s = 2.2107E-09, n_s = 9.5738E-01, alpha_s = 0.0000E+00\n",
      "linP params {'Delta2_star': 0.37518923960240547, 'n_star': -2.3055472204396317, 'alpha_star': -0.21716815061605396}\n",
      "sample point 2\n",
      "H0 = 6.9324E+01, Omega_bc = 2.8422E-01, A_s = 2.3683E-09, n_s = 9.7422E-01, alpha_s = 0.0000E+00\n",
      "linP params {'Delta2_star': 0.3719763482075285, 'n_star': -2.297752848008025, 'alpha_star': -0.21268470324677174}\n",
      "sample point 3\n",
      "H0 = 6.8186E+01, Omega_bc = 3.0193E-01, A_s = 2.5972E-09, n_s = 9.7645E-01, alpha_s = 0.0000E+00\n",
      "linP params {'Delta2_star': 0.43261200735607225, 'n_star': -2.2914849605637, 'alpha_star': -0.2146848015847482}\n",
      "sample point 4\n",
      "H0 = 6.6838E+01, Omega_bc = 3.1940E-01, A_s = 2.3329E-09, n_s = 9.6800E-01, alpha_s = 0.0000E+00\n",
      "linP params {'Delta2_star': 0.4011008337997507, 'n_star': -2.296103233869117, 'alpha_star': -0.2165453077038852}\n",
      "sample point 5\n",
      "H0 = 6.8142E+01, Omega_bc = 3.0256E-01, A_s = 2.4567E-09, n_s = 9.6847E-01, alpha_s = 0.0000E+00\n",
      "linP params {'Delta2_star': 0.4035527038021964, 'n_star': -2.2990227241804155, 'alpha_star': -0.21495907334315875}\n",
      "sample point 6\n",
      "H0 = 6.9036E+01, Omega_bc = 2.9335E-01, A_s = 2.3987E-09, n_s = 9.7457E-01, alpha_s = 0.0000E+00\n",
      "linP params {'Delta2_star': 0.39107048639076364, 'n_star': -2.2945997205241313, 'alpha_star': -0.21402925253734417}\n",
      "sample point 7\n",
      "H0 = 6.8064E+01, Omega_bc = 3.0484E-01, A_s = 2.6561E-09, n_s = 9.7494E-01, alpha_s = 0.0000E+00\n",
      "linP params {'Delta2_star': 0.4474862507141833, 'n_star': -2.2919116898693375, 'alpha_star': -0.2152447340872611}\n",
      "sample point 8\n",
      "H0 = 6.8850E+01, Omega_bc = 2.9496E-01, A_s = 2.7140E-09, n_s = 9.7667E-01, alpha_s = 0.0000E+00\n",
      "linP params {'Delta2_star': 0.44644248444790324, 'n_star': -2.2922740282006293, 'alpha_star': -0.21414648489449348}\n"
     ]
    }
   ],
   "source": [
    "linP_params=[]\n",
    "for i in range(Nsamp):\n",
    "    verbose=(i%1==0)\n",
    "    if verbose: print('sample point',i)\n",
    "    params=samples.getParamSampleDict(i)\n",
    "    linP_params.append(add_linP_params.get_linP_params(params,z_evol=z_evol,verbose=verbose))\n",
    "    if verbose: print('linP params',linP_params[-1])"
   ]
  },
  {
   "cell_type": "code",
   "execution_count": 6,
   "metadata": {
    "collapsed": false,
    "jupyter": {
     "outputs_hidden": false
    }
   },
   "outputs": [],
   "source": [
    "# setup numpy arrays with linP parameters\n",
    "linP_DL2_star=np.array([linP_params[i]['Delta2_star'] for i in range(Nsamp)])\n",
    "linP_n_star=np.array([linP_params[i]['n_star'] for i in range(Nsamp)])\n",
    "linP_alpha_star=np.array([linP_params[i]['alpha_star'] for i in range(Nsamp)])\n",
    "if z_evol:\n",
    "    linP_f_star=np.array([linP_params[i]['f_star'] for i in range(Nsamp)])\n",
    "    linP_g_star=np.array([linP_params[i]['g_star'] for i in range(Nsamp)])"
   ]
  },
  {
   "cell_type": "code",
   "execution_count": 7,
   "metadata": {
    "collapsed": false,
    "jupyter": {
     "outputs_hidden": false
    }
   },
   "outputs": [],
   "source": [
    "# add new derived linP parameters \n",
    "samples.addDerived(linP_DL2_star,'linP_DL2_star',label='Ly\\\\alpha \\\\, \\\\Delta_\\\\ast')\n",
    "samples.addDerived(linP_n_star,'linP_n_star',label='Ly\\\\alpha \\\\, n_\\\\ast')\n",
    "samples.addDerived(linP_alpha_star,'linP_alpha_star',label='Ly\\\\alpha \\\\, \\\\alpha_\\\\ast')\n",
    "if z_evol:\n",
    "    samples.addDerived(linP_f_star,'linP_f_star',label='Ly\\\\alpha \\\\, f_\\\\ast')\n",
    "    samples.addDerived(linP_g_star,'linP_g_star',label='Ly\\\\alpha \\\\, g_\\\\ast')"
   ]
  },
  {
   "cell_type": "code",
   "execution_count": 8,
   "metadata": {
    "collapsed": false,
    "jupyter": {
     "outputs_hidden": false
    }
   },
   "outputs": [
    {
     "name": "stdout",
     "output_type": "stream",
     "text": [
      "DL2_star mean = 0.4102252054200202 +/- 0.026955659404217538\n",
      "n_star mean = -2.295681927973006 +/- 0.004321386106622263\n",
      "alpha_star mean = -0.21474368374746847 +/- 0.001367095173705026\n"
     ]
    }
   ],
   "source": [
    "# get basic statistics for the new parameters\n",
    "param_means=np.mean(samples.samples,axis=0)\n",
    "param_vars=np.var(samples.samples,axis=0)\n",
    "print('DL2_star mean = {} +/- {}'.format(param_means[Npar],np.sqrt(param_vars[Npar])))\n",
    "print('n_star mean = {} +/- {}'.format(param_means[Npar+1],np.sqrt(param_vars[Npar+1])))\n",
    "print('alpha_star mean = {} +/- {}'.format(param_means[Npar+2],np.sqrt(param_vars[Npar+2])))\n",
    "if z_evol:\n",
    "    print('f_star mean = {} +/- {}'.format(param_means[Npar+3],np.sqrt(param_vars[Npar+3])))\n",
    "    print('g_star mean = {} +/- {}'.format(param_means[Npar+4],np.sqrt(param_vars[Npar+4])))"
   ]
  },
  {
   "cell_type": "markdown",
   "metadata": {},
   "source": [
    "### Write extended chains to file"
   ]
  },
  {
   "cell_type": "code",
   "execution_count": 9,
   "metadata": {
    "collapsed": false,
    "jupyter": {
     "outputs_hidden": false
    }
   },
   "outputs": [
    {
     "name": "stdout",
     "output_type": "stream",
     "text": [
      "new root ./test_linP_10000\n"
     ]
    }
   ],
   "source": [
    "if z_evol:\n",
    "    new_root='./test_zlinP'\n",
    "else:\n",
    "    new_root='./test_linP'\n",
    "if (thinning > 1.0):\n",
    "    new_root+='_'+str(thinning)\n",
    "print('new root',new_root)\n",
    "samples.saveAsText(root=new_root,make_dirs=True)"
   ]
  },
  {
   "cell_type": "code",
   "execution_count": 10,
   "metadata": {
    "collapsed": false,
    "jupyter": {
     "outputs_hidden": false
    }
   },
   "outputs": [
    {
     "name": "stdout",
     "output_type": "stream",
     "text": [
      "./test_linP_10000.txt\n",
      "Removed no burn in\n",
      "old DL2_star mean = 0.4102252054200202 +/- 0.026955659404217538\n",
      "new DL2_star mean = 0.4102252053333333 +/- 0.026955659318146828\n"
     ]
    }
   ],
   "source": [
    "# Try reading the new file\n",
    "from getdist import loadMCSamples\n",
    "new_samples = loadMCSamples(new_root)\n",
    "# get basic statistics for the new parameters\n",
    "new_param_means=np.mean(new_samples.samples,axis=0)\n",
    "new_param_vars=np.var(new_samples.samples,axis=0)\n",
    "print('old DL2_star mean = {} +/- {}'.format(param_means[Npar],np.sqrt(param_vars[Npar])))\n",
    "print('new DL2_star mean = {} +/- {}'.format(new_param_means[Npar],np.sqrt(new_param_vars[Npar])))"
   ]
  },
  {
   "cell_type": "code",
   "execution_count": null,
   "metadata": {
    "collapsed": true,
    "jupyter": {
     "outputs_hidden": true
    }
   },
   "outputs": [],
   "source": []
  }
 ],
 "metadata": {
  "kernelspec": {
   "display_name": "cup1d",
   "language": "python",
   "name": "cup1d"
  },
  "language_info": {
   "codemirror_mode": {
    "name": "ipython",
    "version": 3
   },
   "file_extension": ".py",
   "mimetype": "text/x-python",
   "name": "python",
   "nbconvert_exporter": "python",
   "pygments_lexer": "ipython3",
   "version": "3.9.15"
  }
 },
 "nbformat": 4,
 "nbformat_minor": 4
}
