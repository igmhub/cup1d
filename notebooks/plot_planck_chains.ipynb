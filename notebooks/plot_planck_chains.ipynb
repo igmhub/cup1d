{
 "cells": [
  {
   "cell_type": "markdown",
   "metadata": {},
   "source": [
    "# Read chains from Planck and plot contours\n",
    "\n",
    "This notebook shows how to access and play with chains provided by Planck, for different data releases and data combination.\n",
    "\n",
    "The chains themselves are not in the GitHub repo, but we point to them with an environmental variable PLANCK_CHAINS."
   ]
  },
  {
   "cell_type": "code",
   "execution_count": 1,
   "metadata": {
    "collapsed": false
   },
   "outputs": [],
   "source": [
    "%matplotlib inline\n",
    "%load_ext autoreload\n",
    "%autoreload 2\n",
    "import numpy as np\n",
    "from getdist import plots\n",
    "from cup1d.planck import planck_chains"
   ]
  },
  {
   "cell_type": "markdown",
   "metadata": {},
   "source": [
    "### Read $\\Lambda$CDM and $\\nu\\Lambda$CDM  from Planck 2018 only"
   ]
  },
  {
   "cell_type": "code",
   "execution_count": 2,
   "metadata": {
    "collapsed": false
   },
   "outputs": [
    {
     "name": "stdout",
     "output_type": "stream",
     "text": [
      "chain name = base_plikHM_TTTEEE_lowl_lowE\n"
     ]
    }
   ],
   "source": [
    "planck2018=planck_chains.get_planck_2018(model='base',data='plikHM_TTTEEE_lowl_lowE')\n",
    "g = plots.getSinglePlotter()\n",
    "g.plot_2d(planck2018['samples'], ['omegam', 'logA']);"
   ]
  },
  {
   "cell_type": "code",
   "execution_count": 3,
   "metadata": {
    "collapsed": false
   },
   "outputs": [
    {
     "name": "stdout",
     "output_type": "stream",
     "text": [
      "chain name = base_mnu_plikHM_TTTEEE_lowl_lowE\n"
     ]
    }
   ],
   "source": [
    "planck2018_mnu=planck_chains.get_planck_2018(model='base_mnu',data='plikHM_TTTEEE_lowl_lowE')\n",
    "g = plots.getSinglePlotter()\n",
    "g.plot_2d(planck2018_mnu['samples'], ['omegam', 'logA']);"
   ]
  },
  {
   "cell_type": "code",
   "execution_count": 4,
   "metadata": {
    "collapsed": false
   },
   "outputs": [],
   "source": [
    "g = plots.getSubplotPlotter(width_inch=6)\n",
    "g.settings.axes_fontsize = 9\n",
    "g.settings.legend_fontsize = 11\n",
    "g.triangle_plot([planck2018['samples'],planck2018_mnu['samples']],\n",
    "                ['omegam','logA',],legend_labels=[r'$\\Lambda$CDM Planck 2018',r'$+ m_\\nu'])"
   ]
  },
  {
   "cell_type": "markdown",
   "metadata": {},
   "source": [
    "### Read $\\nu\\Lambda$CDM from Planck 2018 + CMB lensing + BAO"
   ]
  },
  {
   "cell_type": "code",
   "execution_count": 5,
   "metadata": {
    "collapsed": false
   },
   "outputs": [
    {
     "name": "stdout",
     "output_type": "stream",
     "text": [
      "chain name = base_mnu_plikHM_TTTEEE_lowl_lowE_BAO\n"
     ]
    },
    {
     "data": {
      "text/plain": [
       "((0.2860120088655863, 0.33815129113441367), (0.0, 0.2547356199571935))"
      ]
     },
     "execution_count": 5,
     "metadata": {},
     "output_type": "execute_result"
    }
   ],
   "source": [
    "planck2018_mnu_BAO=planck_chains.get_planck_2018(model='base_mnu',data='plikHM_TTTEEE_lowl_lowE_BAO')\n",
    "g = plots.getSinglePlotter()\n",
    "g.plot_2d(planck2018_mnu_BAO['samples'], ['omegam', 'mnu'])"
   ]
  },
  {
   "cell_type": "code",
   "execution_count": 6,
   "metadata": {
    "collapsed": false
   },
   "outputs": [],
   "source": [
    "g = plots.getSubplotPlotter(width_inch=6)\n",
    "g.settings.axes_fontsize = 9\n",
    "g.settings.legend_fontsize = 11\n",
    "g.triangle_plot([planck2018_mnu['samples'],planck2018_mnu_BAO['samples']],\n",
    "                ['logA','omegam','mnu'],legend_labels=['Planck 2018','+ BAO'])"
   ]
  },
  {
   "cell_type": "code",
   "execution_count": null,
   "metadata": {
    "collapsed": true
   },
   "outputs": [],
   "source": []
  }
 ],
 "metadata": {
  "kernelspec": {
   "display_name": "Python 3",
   "language": "python",
   "name": "python3"
  },
  "language_info": {
   "codemirror_mode": {
    "name": "ipython",
    "version": 3
   },
   "file_extension": ".py",
   "mimetype": "text/x-python",
   "name": "python",
   "nbconvert_exporter": "python",
   "pygments_lexer": "ipython3",
   "version": "3.6.7"
  }
 },
 "nbformat": 4,
 "nbformat_minor": 2
}
