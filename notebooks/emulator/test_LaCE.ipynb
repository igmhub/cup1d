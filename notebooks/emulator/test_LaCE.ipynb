{
 "cells": [
  {
   "cell_type": "markdown",
   "id": "f728f54c-bcb7-430d-89e4-cc47408c2ccb",
   "metadata": {},
   "source": [
    "# Use LaCE to emulate P1D given a cosmological and IGM model"
   ]
  },
  {
   "cell_type": "code",
   "execution_count": 1,
   "id": "0c51f11c-49da-4a86-bb55-e2e4ed3e9cc8",
   "metadata": {},
   "outputs": [],
   "source": [
    "%matplotlib inline\n",
    "%load_ext autoreload\n",
    "%autoreload 2\n",
    "import numpy as np\n",
    "import matplotlib.pyplot as plt"
   ]
  },
  {
   "cell_type": "code",
   "execution_count": 2,
   "id": "71927a5f-5460-4f8b-b19d-4e2c9ee32091",
   "metadata": {},
   "outputs": [],
   "source": [
    "# our modules\n",
    "from lace.emulator import gp_emulator\n",
    "from lace.emulator import p1d_archive\n",
    "from lace.cosmo import camb_cosmo\n",
    "from lace.cosmo import fit_linP"
   ]
  },
  {
   "cell_type": "markdown",
   "id": "cac5828c-bc07-44f7-9902-0e349bff867d",
   "metadata": {},
   "source": [
    "### Load LaCE emulator"
   ]
  },
  {
   "cell_type": "code",
   "execution_count": 3,
   "id": "4ada2772-86cb-4f01-ba34-88996270c438",
   "metadata": {},
   "outputs": [
    {
     "name": "stdout",
     "output_type": "stream",
     "text": [
      "P1D archive contains 330 entries\n"
     ]
    }
   ],
   "source": [
    "# do not include optical depth re-scalings in the archive\n",
    "archive=p1d_archive.archiveP1D(drop_tau_rescalings=True)\n",
    "Na=len(archive.data)\n",
    "print('P1D archive contains {} entries'.format(Na))"
   ]
  },
  {
   "cell_type": "code",
   "execution_count": 4,
   "id": "d89981f5-9c8e-4eab-8a30-63ca09902756",
   "metadata": {},
   "outputs": [
    {
     "name": "stdout",
     "output_type": "stream",
     "text": [
      "Training GP on 330 points\n"
     ]
    },
    {
     "name": "stderr",
     "output_type": "stream",
     "text": [
      " /Users/font/opt/anaconda3/envs/lace_env/lib/python3.8/site-packages/paramz/parameterized.py:61: RuntimeWarning:Don't forget to initialize by self.initialize_parameter()!\n"
     ]
    },
    {
     "name": "stdout",
     "output_type": "stream",
     "text": [
      "GPs optimised in 0.72 seconds\n"
     ]
    }
   ],
   "source": [
    "# specify parameters to be used in emulator\n",
    "emu_params=['mF', 'sigT_Mpc', 'gamma', 'kF_Mpc', 'Delta2_p', 'n_p']\n",
    "# maximum wavenumber to use in emulator\n",
    "emu_kmax_Mpc=8\n",
    "# setup GPy emulator\n",
    "emulator=gp_emulator.GPEmulator(paramList=emu_params,passarchive=archive,kmax_Mpc=emu_kmax_Mpc)"
   ]
  },
  {
   "cell_type": "markdown",
   "id": "d198035f-221a-46cd-92db-2d613a55aafa",
   "metadata": {},
   "source": [
    "### Specify cosmological model\n",
    "\n",
    "cosmo object will wrap a CAMB results object, and offer useful functionality."
   ]
  },
  {
   "cell_type": "code",
   "execution_count": 5,
   "id": "ef181728-5734-4518-8386-2776bc41b7a0",
   "metadata": {},
   "outputs": [],
   "source": [
    "cosmo=camb_cosmo.get_cosmology(H0=67,ns=0.96)"
   ]
  },
  {
   "cell_type": "markdown",
   "id": "0363181d-59ab-4075-adb9-36c67671c217",
   "metadata": {},
   "source": [
    "### Compute linear power parameters at the redshift of interest"
   ]
  },
  {
   "cell_type": "code",
   "execution_count": 6,
   "id": "ab1c58c8-3e72-4974-8ed8-233934ed997a",
   "metadata": {},
   "outputs": [
    {
     "name": "stdout",
     "output_type": "stream",
     "text": [
      "Delta2_p = 0.3591821382675479\n",
      "n_p = -2.3076192710403096\n",
      "alpha_p = -0.21536107404749624\n",
      "f_p = 0.9813416774057897\n"
     ]
    }
   ],
   "source": [
    "z=3.0\n",
    "test_params=fit_linP.get_linP_Mpc_zs(cosmo,zs=[z],kp_Mpc=archive.kp_Mpc)[0]\n",
    "for key,value in test_params.items():\n",
    "    print(key,'=',value)"
   ]
  },
  {
   "cell_type": "markdown",
   "id": "72327c38-1eea-4959-af8d-396546a9c3ee",
   "metadata": {},
   "source": [
    "### Specify IGM parameters at the redshift\n",
    "\n",
    "We need to choose a value of mean flux (mF), thermal broadening scale (sigT_Mpc), TDR slope gamma and filtering length (kF_Mpc).\n",
    "\n",
    "We will choose values that are well sampled in the archive."
   ]
  },
  {
   "cell_type": "code",
   "execution_count": 7,
   "id": "e05bed46-95b6-41c0-a221-ff014e699f8e",
   "metadata": {},
   "outputs": [],
   "source": [
    "dz=0.1\n",
    "zmask=[ (archive.data[i]['z']<z+dz) & (archive.data[i]['z']>z-dz) for i in range(Na)]"
   ]
  },
  {
   "cell_type": "code",
   "execution_count": 8,
   "id": "a8bf0ffa-ca01-49e8-ace2-aed6b0e08c11",
   "metadata": {},
   "outputs": [
    {
     "name": "stdout",
     "output_type": "stream",
     "text": [
      "mean flux = 0.658\n",
      "thermal broadening sig_T = 0.128 Mpc\n",
      "TDR slope gamma = 1.507\n",
      "Filtering length k_F = 10.746 1/Mpc\n"
     ]
    }
   ],
   "source": [
    "test_params['mF']=np.mean([ archive.data[i]['mF'] for i in range(Na) if zmask[i] ])\n",
    "print('mean flux = {:.3f}'.format(test_params['mF']))\n",
    "test_params['sigT_Mpc']=np.mean([ archive.data[i]['sigT_Mpc'] for i in range(Na) if zmask[i] ])\n",
    "print('thermal broadening sig_T = {:.3f} Mpc'.format(test_params['sigT_Mpc']))\n",
    "test_params['gamma']=np.mean([ archive.data[i]['gamma'] for i in range(Na) if zmask[i] ])\n",
    "print('TDR slope gamma = {:.3f}'.format(test_params['gamma']))\n",
    "test_params['kF_Mpc']=np.mean([ archive.data[i]['kF_Mpc'] for i in range(Na) if zmask[i] ])\n",
    "print('Filtering length k_F = {:.3f} 1/Mpc'.format(test_params['kF_Mpc']))"
   ]
  },
  {
   "cell_type": "markdown",
   "id": "59caf04e-ac37-4e72-a628-c0e14e18cdd1",
   "metadata": {},
   "source": [
    "### Ask emulator to predict P1D"
   ]
  },
  {
   "cell_type": "code",
   "execution_count": 9,
   "id": "84d14615-8e8e-4f2a-a366-22fd49f10927",
   "metadata": {},
   "outputs": [
    {
     "name": "stdout",
     "output_type": "stream",
     "text": [
      "1 Mpc = 76.67 km/s at z = 3.0\n"
     ]
    }
   ],
   "source": [
    "# specify wavenumbers to emulate (in velocity units)\n",
    "k_kms=np.logspace(np.log10(0.002),np.log10(0.02),num=20)\n",
    "# use test cosmology to translate to comoving units\n",
    "dkms_dMpc=camb_cosmo.dkms_dMpc(cosmo,z)\n",
    "print('1 Mpc = {:.2f} km/s at z = {}'.format(dkms_dMpc,z))\n",
    "k_Mpc=k_kms*dkms_dMpc"
   ]
  },
  {
   "cell_type": "code",
   "execution_count": 10,
   "id": "4bdc0eeb-5de5-41ab-96ba-b01b461fd6b4",
   "metadata": {},
   "outputs": [],
   "source": [
    "# emulate P1D in comoving units\n",
    "p1d_Mpc=emulator.emulate_p1d_Mpc(model=test_params,k_Mpc=k_Mpc)\n",
    "# use test cosmology to translate back to velocity units\n",
    "p1d_kms=p1d_Mpc*dkms_dMpc"
   ]
  },
  {
   "cell_type": "code",
   "execution_count": 11,
   "id": "e0aa115e-d3b0-4ce4-82dc-4195915b7391",
   "metadata": {},
   "outputs": [
    {
     "data": {
      "text/plain": [
       "Text(0, 0.5, 'k P(k)')"
      ]
     },
     "execution_count": 11,
     "metadata": {},
     "output_type": "execute_result"
    },
    {
     "data": {
      "image/png": "[encoded data removed]",
      "text/plain": [
       "<Figure size 432x288 with 1 Axes>"
      ]
     },
     "metadata": {
      "needs_background": "light"
     },
     "output_type": "display_data"
    }
   ],
   "source": [
    "plt.loglog(k_kms,k_kms*p1d_kms)\n",
    "plt.xlabel('k [s/km]')\n",
    "plt.ylabel('k P(k)')"
   ]
  },
  {
   "cell_type": "code",
   "execution_count": null,
   "id": "60ed84c3-c9b9-4347-aadb-c15608247564",
   "metadata": {},
   "outputs": [],
   "source": []
  },
  {
   "cell_type": "code",
   "execution_count": null,
   "id": "5028adcf",
   "metadata": {},
   "outputs": [],
   "source": []
  },
  {
   "cell_type": "code",
   "execution_count": null,
   "id": "a31f810b",
   "metadata": {},
   "outputs": [],
   "source": []
  }
 ],
 "metadata": {
  "kernelspec": {
   "display_name": "Python 3 (ipykernel)",
   "language": "python",
   "name": "python3"
  },
  "language_info": {
   "codemirror_mode": {
    "name": "ipython",
    "version": 3
   },
   "file_extension": ".py",
   "mimetype": "text/x-python",
   "name": "python",
   "nbconvert_exporter": "python",
   "pygments_lexer": "ipython3",
   "version": "3.8.13"
  }
 },
 "nbformat": 4,
 "nbformat_minor": 5
}
