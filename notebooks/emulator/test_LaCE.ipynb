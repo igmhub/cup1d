{
 "cells": [
  {
   "cell_type": "markdown",
   "id": "f728f54c-bcb7-430d-89e4-cc47408c2ccb",
   "metadata": {},
   "source": [
    "# Use LaCE to emulate P1D given a cosmological and IGM model"
   ]
  },
  {
   "cell_type": "code",
   "execution_count": 1,
   "id": "0c51f11c-49da-4a86-bb55-e2e4ed3e9cc8",
   "metadata": {},
   "outputs": [],
   "source": [
    "%matplotlib inline\n",
    "%load_ext autoreload\n",
    "%autoreload 2\n",
    "import numpy as np\n",
    "import matplotlib.pyplot as plt"
   ]
  },
  {
   "cell_type": "code",
   "execution_count": 2,
   "id": "71927a5f-5460-4f8b-b19d-4e2c9ee32091",
   "metadata": {},
   "outputs": [
    {
     "name": "stdout",
     "output_type": "stream",
     "text": [
      "warning in stationary: failed to import cython module: falling back to numpy\n",
      "warning in coregionalize: failed to import cython module: falling back to numpy\n",
      "warning in choleskies: failed to import cython module: falling back to numpy\n"
     ]
    }
   ],
   "source": [
    "# our modules\n",
    "from lace.cosmo import camb_cosmo\n",
    "from lace.cosmo import fit_linP\n",
    "from lace.emulator import nn_emulator\n",
    "from lace.emulator import gp_emulator"
   ]
  },
  {
   "cell_type": "markdown",
   "id": "cac5828c-bc07-44f7-9902-0e349bff867d",
   "metadata": {},
   "source": [
    "### Load LaCE emulator"
   ]
  },
  {
   "cell_type": "code",
   "execution_count": 7,
   "id": "7fe03f03",
   "metadata": {},
   "outputs": [],
   "source": [
    "emu_params=['Delta2_p', 'n_p','mF', 'sigT_Mpc', 'gamma', 'kF_Mpc']\n",
    "training_set = 'Cabayol23'\n",
    "if(training_set):\n",
    "    emulator_label = \"Cabayol23\"\n",
    "    emu_path = \"NNmodels/Cabayol23/Cabayol23.pt\"\n",
    "    drop_sim_val = None\n",
    "    pre_trained = True\n",
    "    use_GP=False"
   ]
  },
  {
   "cell_type": "code",
   "execution_count": 9,
   "id": "91e5cb85",
   "metadata": {},
   "outputs": [
    {
     "name": "stdout",
     "output_type": "stream",
     "text": [
      "Selected training set from Cabayol23\n",
      "Select emulator in Cabayol23\n",
      "Neural network emulating the optimal P1D of Gadget simulations fitting coefficients to a 5th degree polynomial. It goes to scales of 4Mpc^{-1} and z<=4.5. The parameters passed to the emulator will be overwritten to match these ones\n",
      "Model loaded. No training needed\n"
     ]
    }
   ],
   "source": [
    "if(pre_trained):\n",
    "    emulator = nn_emulator.NNEmulator(\n",
    "        training_set=training_set,\n",
    "        emulator_label=emulator_label,\n",
    "        emu_params=emu_params,\n",
    "        model_path=emu_path,\n",
    "        drop_sim=drop_sim_val,\n",
    "        train=False,\n",
    "    )    \n",
    "else:\n",
    "    if use_GP:\n",
    "        emulator=gp_emulator.GPEmulator(training_set=training_set,emu_params=emu_params)\n",
    "    else:\n",
    "        # these might be sub-optimal settings for the Nyx emulator\n",
    "        emulator=nn_emulator.NNEmulator(training_set=training_set,emu_params=emu_params)\n",
    "    "
   ]
  },
  {
   "cell_type": "code",
   "execution_count": 10,
   "id": "d89981f5-9c8e-4eab-8a30-63ca09902756",
   "metadata": {},
   "outputs": [
    {
     "name": "stdout",
     "output_type": "stream",
     "text": [
      "9900 samples in training set\n"
     ]
    }
   ],
   "source": [
    "# link to training data, in case it is useful\n",
    "training_data=emulator.archive.get_training_data(emu_params=emu_params)\n",
    "Na=len(training_data)\n",
    "print(Na,'samples in training set')"
   ]
  },
  {
   "cell_type": "markdown",
   "id": "d198035f-221a-46cd-92db-2d613a55aafa",
   "metadata": {},
   "source": [
    "### Specify cosmological model\n",
    "\n",
    "cosmo object will wrap a CAMB results object, and offer useful functionality."
   ]
  },
  {
   "cell_type": "code",
   "execution_count": 11,
   "id": "ef181728-5734-4518-8386-2776bc41b7a0",
   "metadata": {},
   "outputs": [],
   "source": [
    "cosmo=camb_cosmo.get_cosmology(H0=67,ns=0.96)"
   ]
  },
  {
   "cell_type": "markdown",
   "id": "0363181d-59ab-4075-adb9-36c67671c217",
   "metadata": {},
   "source": [
    "### Compute linear power parameters at the redshift of interest"
   ]
  },
  {
   "cell_type": "code",
   "execution_count": 12,
   "id": "ab1c58c8-3e72-4974-8ed8-233934ed997a",
   "metadata": {},
   "outputs": [
    {
     "name": "stdout",
     "output_type": "stream",
     "text": [
      "Delta2_p = 0.3592783764295903\n",
      "n_p = -2.3076121164022467\n",
      "alpha_p = -0.21536809737918072\n",
      "f_p = 0.9813418229699038\n"
     ]
    }
   ],
   "source": [
    "z=3.0\n",
    "test_params=fit_linP.get_linP_Mpc_zs(cosmo,zs=[z],kp_Mpc=emulator.archive.kp_Mpc)[0]\n",
    "for key,value in test_params.items():\n",
    "    print(key,'=',value)"
   ]
  },
  {
   "cell_type": "markdown",
   "id": "72327c38-1eea-4959-af8d-396546a9c3ee",
   "metadata": {},
   "source": [
    "### Specify IGM parameters at the redshift\n",
    "\n",
    "We need to choose a value of mean flux (mF), thermal broadening scale (sigT_Mpc), TDR slope gamma and filtering length (kF_Mpc).\n",
    "\n",
    "We will choose values that are well sampled in the archive."
   ]
  },
  {
   "cell_type": "code",
   "execution_count": 13,
   "id": "e05bed46-95b6-41c0-a221-ff014e699f8e",
   "metadata": {},
   "outputs": [],
   "source": [
    "dz=0.1\n",
    "zmask=[ (training_data[i]['z']<z+dz) & (training_data[i]['z']>z-dz) for i in range(Na)]"
   ]
  },
  {
   "cell_type": "code",
   "execution_count": 14,
   "id": "b2fc9376",
   "metadata": {},
   "outputs": [
    {
     "data": {
      "text/plain": [
       "{'Delta2_p': 0.3592783764295903,\n",
       " 'n_p': -2.3076121164022467,\n",
       " 'alpha_p': -0.21536809737918072,\n",
       " 'f_p': 0.9813418229699038}"
      ]
     },
     "execution_count": 14,
     "metadata": {},
     "output_type": "execute_result"
    }
   ],
   "source": [
    "test_params"
   ]
  },
  {
   "cell_type": "code",
   "execution_count": 15,
   "id": "dd2d35bd",
   "metadata": {},
   "outputs": [
    {
     "name": "stdout",
     "output_type": "stream",
     "text": [
      "mF = 0.659\n",
      "sigT_Mpc = 0.128\n",
      "gamma = 1.507\n",
      "kF_Mpc = 10.746\n"
     ]
    }
   ],
   "source": [
    "for param in emu_params:\n",
    "    if param in ['Delta2_p','n_p']: \n",
    "        continue\n",
    "    test_params[param]=np.mean([ training_data[i][param] for i in range(Na) if zmask[i] ])\n",
    "    print(param+' = {:.3f}'.format(test_params[param]))"
   ]
  },
  {
   "cell_type": "markdown",
   "id": "59caf04e-ac37-4e72-a628-c0e14e18cdd1",
   "metadata": {},
   "source": [
    "### Ask emulator to predict P1D"
   ]
  },
  {
   "cell_type": "code",
   "execution_count": 16,
   "id": "84d14615-8e8e-4f2a-a366-22fd49f10927",
   "metadata": {},
   "outputs": [
    {
     "name": "stdout",
     "output_type": "stream",
     "text": [
      "1 Mpc = 76.67 km/s at z = 3.0\n"
     ]
    }
   ],
   "source": [
    "# specify wavenumbers to emulate (in velocity units)\n",
    "k_kms=np.logspace(np.log10(0.002),np.log10(0.02),num=20)\n",
    "# use test cosmology to translate to comoving units\n",
    "dkms_dMpc=camb_cosmo.dkms_dMpc(cosmo,z)\n",
    "print('1 Mpc = {:.2f} km/s at z = {}'.format(dkms_dMpc,z))\n",
    "k_Mpc=k_kms*dkms_dMpc"
   ]
  },
  {
   "cell_type": "code",
   "execution_count": 17,
   "id": "4bdc0eeb-5de5-41ab-96ba-b01b461fd6b4",
   "metadata": {},
   "outputs": [],
   "source": [
    "# emulate P1D in comoving units\n",
    "p1d_Mpc=emulator.emulate_p1d_Mpc(model=test_params,k_Mpc=k_Mpc)\n",
    "# use test cosmology to translate back to velocity units\n",
    "p1d_kms=p1d_Mpc*dkms_dMpc"
   ]
  },
  {
   "cell_type": "code",
   "execution_count": 18,
   "id": "e0aa115e-d3b0-4ce4-82dc-4195915b7391",
   "metadata": {},
   "outputs": [
    {
     "data": {
      "text/plain": [
       "Text(0, 0.5, 'k P(k)')"
      ]
     },
     "execution_count": 18,
     "metadata": {},
     "output_type": "execute_result"
    },
    {
     "data": {
      "image/png": "[encoded data removed]",
      "text/plain": [
       "<Figure size 640x480 with 1 Axes>"
      ]
     },
     "metadata": {},
     "output_type": "display_data"
    }
   ],
   "source": [
    "plt.loglog(k_kms,k_kms*p1d_kms)\n",
    "plt.xlabel('k [s/km]')\n",
    "plt.ylabel('k P(k)')"
   ]
  },
  {
   "cell_type": "code",
   "execution_count": null,
   "id": "a31f810b",
   "metadata": {},
   "outputs": [],
   "source": []
  }
 ],
 "metadata": {
  "kernelspec": {
   "display_name": "Python 3 (ipykernel)",
   "language": "python",
   "name": "python3"
  },
  "language_info": {
   "codemirror_mode": {
    "name": "ipython",
    "version": 3
   },
   "file_extension": ".py",
   "mimetype": "text/x-python",
   "name": "python",
   "nbconvert_exporter": "python",
   "pygments_lexer": "ipython3",
   "version": "3.11.5"
  }
 },
 "nbformat": 4,
 "nbformat_minor": 5
}
