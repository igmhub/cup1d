{
 "cells": [
  {
   "cell_type": "markdown",
   "metadata": {},
   "source": [
    "# Add extra column with linear parameters to Planck chains\n",
    "\n",
    "This notebook shows how to read a chain from Planck, and compute linear power parameters for each point in the chain.\n",
    "\n",
    "Actually, the code is fairly slow, so it only does this for a handful of points in the chain. \n",
    "\n",
    "Heavier work is done in a  normal script."
   ]
  },
  {
   "cell_type": "code",
   "execution_count": 1,
   "metadata": {
    "collapsed": false
   },
   "outputs": [],
   "source": [
    "import numpy as np\n",
    "from getdist import plots\n",
    "from cup1d.planck import planck_chains\n",
    "from cup1d.planck import add_linP_params\n",
    "# because of black magic, the order of the imports here matters\n",
    "%matplotlib inline"
   ]
  },
  {
   "cell_type": "markdown",
   "metadata": {},
   "source": [
    "### Read default Planck 2018 chain"
   ]
  },
  {
   "cell_type": "code",
   "execution_count": 2,
   "metadata": {
    "collapsed": false
   },
   "outputs": [
    {
     "name": "stdout",
     "output_type": "stream",
     "text": [
      "chain name = base_mnu_plikHM_TT_lowl_lowE\n"
     ]
    },
    {
     "data": {
      "text/plain": [
       "((0.2623069062917064, 0.5412635937082936),\n",
       " (2.971244986653956, 3.1070790133460444))"
      ]
     },
     "execution_count": 2,
     "metadata": {},
     "output_type": "execute_result"
    },
    {
     "data": {
      "image/png": "[encoded data removed]",
      "text/plain": [
       "<Figure size 432x324 with 1 Axes>"
      ]
     },
     "metadata": {},
     "output_type": "display_data"
    }
   ],
   "source": [
    "planck2018=planck_chains.get_planck_2018()\n",
    "g = plots.getSinglePlotter()\n",
    "g.plot_2d(planck2018['samples'], ['omegam', 'logA'])"
   ]
  },
  {
   "cell_type": "code",
   "execution_count": 3,
   "metadata": {
    "collapsed": false
   },
   "outputs": [
    {
     "name": "stdout",
     "output_type": "stream",
     "text": [
      "will use 6 samples\n"
     ]
    }
   ],
   "source": [
    "# dramatically reduce sice of chain, for testing\n",
    "samples=planck2018['samples'].copy()\n",
    "thinning=20000\n",
    "samples.thin(thinning)\n",
    "Nsamp=len(samples.weights)\n",
    "print('will use %d samples'%Nsamp)"
   ]
  },
  {
   "cell_type": "markdown",
   "metadata": {},
   "source": [
    "### For each element in the chain, compute setup CAMB object and compute linear power parameters"
   ]
  },
  {
   "cell_type": "code",
   "execution_count": 4,
   "metadata": {
    "collapsed": false
   },
   "outputs": [
    {
     "name": "stdout",
     "output_type": "stream",
     "text": [
      "sample point 0\n",
      "H0 = 6.7268E+01, Omega_bc = 3.1540E-01, A_s = 2.1223E-09, n_s = 9.5905E-01, alpha_s = 0.0000E+00\n",
      "sample point 1\n",
      "H0 = 6.6965E+01, Omega_bc = 3.1578E-01, A_s = 2.0724E-09, n_s = 9.6618E-01, alpha_s = 0.0000E+00\n",
      "sample point 2\n",
      "H0 = 6.6707E+01, Omega_bc = 3.2605E-01, A_s = 2.0992E-09, n_s = 9.6317E-01, alpha_s = 0.0000E+00\n",
      "sample point 3\n",
      "H0 = 6.4578E+01, Omega_bc = 3.4889E-01, A_s = 2.0533E-09, n_s = 9.5319E-01, alpha_s = 0.0000E+00\n",
      "sample point 4\n",
      "H0 = 6.8713E+01, Omega_bc = 2.9031E-01, A_s = 2.0718E-09, n_s = 9.7606E-01, alpha_s = 0.0000E+00\n",
      "sample point 5\n",
      "H0 = 6.6067E+01, Omega_bc = 3.2960E-01, A_s = 2.1047E-09, n_s = 9.6457E-01, alpha_s = 0.0000E+00\n"
     ]
    }
   ],
   "source": [
    "linP_params=[]\n",
    "for i in range(Nsamp):\n",
    "    verbose=(i%1==0)\n",
    "    if verbose: print('sample point',i)\n",
    "    params=samples.getParamSampleDict(i)\n",
    "    linP_params.append(add_linP_params.get_linP_params(params,verbose=verbose))"
   ]
  },
  {
   "cell_type": "code",
   "execution_count": 5,
   "metadata": {
    "collapsed": false
   },
   "outputs": [],
   "source": [
    "# setup numpy arrays with linP parameters\n",
    "linP_DL2_star=np.array([linP_params[i]['Delta2_star'] for i in range(Nsamp)])\n",
    "linP_n_star=np.array([linP_params[i]['n_star'] for i in range(Nsamp)])\n",
    "linP_alpha_star=np.array([linP_params[i]['alpha_star'] for i in range(Nsamp)])\n",
    "linP_f_star=np.array([linP_params[i]['f_star'] for i in range(Nsamp)])\n",
    "linP_g_star=np.array([linP_params[i]['g_star'] for i in range(Nsamp)])"
   ]
  },
  {
   "cell_type": "code",
   "execution_count": 6,
   "metadata": {
    "collapsed": false
   },
   "outputs": [
    {
     "data": {
      "text/plain": [
       "<getdist.paramnames.ParamInfo at 0x1212732b0>"
      ]
     },
     "execution_count": 6,
     "metadata": {},
     "output_type": "execute_result"
    }
   ],
   "source": [
    "# add new derived linP parameters \n",
    "samples.addDerived(linP_DL2_star,'linP_DL2_star',label='Ly\\\\alpha \\\\, \\\\Delta_\\\\ast')\n",
    "samples.addDerived(linP_n_star,'linP_n_star',label='Ly\\\\alpha \\\\, n_\\\\ast')\n",
    "samples.addDerived(linP_alpha_star,'linP_alpha_star',label='Ly\\\\alpha \\\\, \\\\alpha_\\\\ast')\n",
    "samples.addDerived(linP_f_star,'linP_f_star',label='Ly\\\\alpha \\\\, f_\\\\ast')\n",
    "samples.addDerived(linP_g_star,'linP_g_star',label='Ly\\\\alpha \\\\, g_\\\\ast')"
   ]
  },
  {
   "cell_type": "code",
   "execution_count": 7,
   "metadata": {
    "collapsed": false
   },
   "outputs": [
    {
     "name": "stdout",
     "output_type": "stream",
     "text": [
      "DL2_star mean = 0.3493593545430808 +/- 0.015455174066833466\n",
      "n_star mean = -2.3009840480504287 +/- 0.004130845679713867\n",
      "alpha_star mean = -0.21627228689621558 +/- 0.0018091101287907704\n",
      "f_star mean = 0.9780118754449193 +/- 0.0023161996832958384\n",
      "g_star mean = 0.9685346319724037 +/- 0.0025651822829662256\n"
     ]
    }
   ],
   "source": [
    "# get basic statistics for the new parameters\n",
    "param_means=np.mean(samples.samples,axis=0)\n",
    "param_vars=np.var(samples.samples,axis=0)\n",
    "print('DL2_star mean = {} +/- {}'.format(param_means[88],np.sqrt(param_vars[88])))\n",
    "print('n_star mean = {} +/- {}'.format(param_means[89],np.sqrt(param_vars[89])))\n",
    "print('alpha_star mean = {} +/- {}'.format(param_means[90],np.sqrt(param_vars[90])))\n",
    "print('f_star mean = {} +/- {}'.format(param_means[91],np.sqrt(param_vars[91])))\n",
    "print('g_star mean = {} +/- {}'.format(param_means[92],np.sqrt(param_vars[92])))"
   ]
  },
  {
   "cell_type": "markdown",
   "metadata": {},
   "source": [
    "### Write extended chains to file"
   ]
  },
  {
   "cell_type": "code",
   "execution_count": 8,
   "metadata": {
    "collapsed": false
   },
   "outputs": [
    {
     "name": "stdout",
     "output_type": "stream",
     "text": [
      "new root ./test_linP_20000\n"
     ]
    }
   ],
   "source": [
    "new_root='./test_linP'\n",
    "if (thinning > 1.0):\n",
    "    new_root+='_'+str(thinning)\n",
    "print('new root',new_root)\n",
    "samples.saveAsText(root=new_root,make_dirs=True)"
   ]
  },
  {
   "cell_type": "code",
   "execution_count": 9,
   "metadata": {
    "collapsed": false
   },
   "outputs": [
    {
     "name": "stdout",
     "output_type": "stream",
     "text": [
      "./test_linP_20000.txt\n",
      "Removed no burn in\n",
      "old DL2_star mean = 0.3493593545430808 +/- 0.015455174066833466\n",
      "new DL2_star mean = 0.3493593545 +/- 0.015455174126208733\n"
     ]
    }
   ],
   "source": [
    "# Try reading the new file\n",
    "from getdist import loadMCSamples\n",
    "new_samples = loadMCSamples(new_root)\n",
    "# get basic statistics for the new parameters\n",
    "new_param_means=np.mean(new_samples.samples,axis=0)\n",
    "new_param_vars=np.var(new_samples.samples,axis=0)\n",
    "print('old DL2_star mean = {} +/- {}'.format(param_means[88],np.sqrt(param_vars[88])))\n",
    "print('new DL2_star mean = {} +/- {}'.format(new_param_means[88],np.sqrt(new_param_vars[88])))"
   ]
  },
  {
   "cell_type": "code",
   "execution_count": null,
   "metadata": {
    "collapsed": true
   },
   "outputs": [],
   "source": []
  }
 ],
 "metadata": {
  "kernelspec": {
   "display_name": "Python 3",
   "language": "python",
   "name": "python3"
  },
  "language_info": {
   "codemirror_mode": {
    "name": "ipython",
    "version": 3
   },
   "file_extension": ".py",
   "mimetype": "text/x-python",
   "name": "python",
   "nbconvert_exporter": "python",
   "pygments_lexer": "ipython3",
   "version": "3.6.7"
  }
 },
 "nbformat": 4,
 "nbformat_minor": 2
}
