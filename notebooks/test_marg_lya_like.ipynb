{
 "cells": [
  {
   "cell_type": "markdown",
   "metadata": {},
   "source": [
    "# User interface: the compressed likelihood\n",
    "\n",
    "This notebook focuses on the final product, and how we expect most (non-experts) users to use our compressed likelihood. \n",
    "\n",
    "By compressed likelihood we mean a likelihood that has already marginalized over nuisance (astro) parameters, and that uses a reduced set of parameters to describe the cosmological model. \n",
    "\n",
    "The compressed likelihood doesn't know about redshift bins, or band powers, it doesn't know about mean flux, temperature or redshift or reionization."
   ]
  },
  {
   "cell_type": "markdown",
   "metadata": {},
   "source": [
    "Summary:\n",
    "    - Given an input cosmological model, it computes the parameters describing the linear power spectrum (linP).\n",
    "    - Given a set of linP parameters, it calls a precomputed object with the likelihood for these parameters. For this notebook, the precomputed object is just a Gaussian fit to ($\\Delta_p^2$,$n_{\\rm eff}$), i.e., amplitude and slope of the linaer power at $z=3$ and $k_p= 0.009 s/km$."
   ]
  },
  {
   "cell_type": "code",
   "execution_count": 1,
   "metadata": {
    "collapsed": false
   },
   "outputs": [],
   "source": [
    "%matplotlib inline\n",
    "%load_ext autoreload\n",
    "%autoreload 2\n",
    "import numpy as np\n",
    "import os\n",
    "import matplotlib.pyplot as plt\n",
    "from interface import marg_lya_like\n",
    "from cosmology import camb_cosmo\n",
    "from cosmology import fit_linP"
   ]
  },
  {
   "cell_type": "markdown",
   "metadata": {
    "collapsed": true
   },
   "source": [
    "### Specify cosmological models\n",
    "\n",
    "Setup two $\\nu\\Lambda$CDM cosmological models, with different neutrino masses"
   ]
  },
  {
   "cell_type": "code",
   "execution_count": 2,
   "metadata": {
    "collapsed": false
   },
   "outputs": [
    {
     "name": "stdout",
     "output_type": "stream",
     "text": [
      "H0 = 6.7000E+01, Omega_b h^2 = 2.2000E-02, Omega_c h^2 = 1.2000E-01, Omega_k = 0.0000E+00, Omega_nu h^2 = 0.0000E+00, T_CMB = 2.7255E+00, A_s = 2.1000E-09, n_s = 9.6500E-01, alpha_s = 0.0000E+00\n",
      "Omega_m = 0.3163288037424815\n"
     ]
    }
   ],
   "source": [
    "# specify cosmology with massless neutrinos\n",
    "cosmo_mnu0 = camb_cosmo.get_cosmology(mnu=0.0)\n",
    "# print relevant information about the cosmology object\n",
    "camb_cosmo.print_info(cosmo_mnu0)\n",
    "print('Omega_m =',cosmo_mnu0.omegam)"
   ]
  },
  {
   "cell_type": "code",
   "execution_count": 3,
   "metadata": {
    "collapsed": false
   },
   "outputs": [
    {
     "name": "stdout",
     "output_type": "stream",
     "text": [
      "H0 = 6.7000E+01, Omega_b h^2 = 2.2000E-02, Omega_c h^2 = 1.2000E-01, Omega_k = 0.0000E+00, Omega_nu h^2 = 3.2257E-03, T_CMB = 2.7255E+00, A_s = 2.1000E-09, n_s = 9.6500E-01, alpha_s = 0.0000E+00\n",
      "Omega_m = 0.3235145733898215\n"
     ]
    }
   ],
   "source": [
    "# specify cosmology with massless neutrinos\n",
    "cosmo_mnu03 = camb_cosmo.get_cosmology(mnu=0.3)\n",
    "# print relevant information about the cosmology object\n",
    "camb_cosmo.print_info(cosmo_mnu03)\n",
    "print('Omega_m =',cosmo_mnu03.omegam)"
   ]
  },
  {
   "cell_type": "markdown",
   "metadata": {
    "collapsed": true
   },
   "source": [
    "### Compute parameters describing the linear power spectrum around $z_\\star=3$, $k_p=0.009$ s/km"
   ]
  },
  {
   "cell_type": "code",
   "execution_count": 4,
   "metadata": {
    "collapsed": false
   },
   "outputs": [
    {
     "name": "stdout",
     "output_type": "stream",
     "text": [
      "Lya parameters for massless cosmology {'f_star': 0.981369557840318, 'g_star': 0.9677508579459803, 'Delta2_star': 0.36017590528641974, 'n_star': -2.299335667257498, 'alpha_star': -0.2165270371206895}\n"
     ]
    }
   ],
   "source": [
    "z_star=3.0\n",
    "kp_kms=0.009\n",
    "linP_model_mnu0=fit_linP.LinearPowerModel(cosmo=cosmo_mnu0,z_star=z_star,k_units='kms',kp=kp_kms)\n",
    "params_mnu0=linP_model_mnu0.get_params()\n",
    "print('Lya parameters for massless cosmology',params_mnu0)"
   ]
  },
  {
   "cell_type": "code",
   "execution_count": 5,
   "metadata": {
    "collapsed": false
   },
   "outputs": [
    {
     "name": "stdout",
     "output_type": "stream",
     "text": [
      "Lya parameters for massive cosmology {'f_star': 0.9690024397615455, 'g_star': 0.9687130850033866, 'Delta2_star': 0.3234731288528899, 'n_star': -2.3021240909857736, 'alpha_star': -0.21455144240684618}\n"
     ]
    }
   ],
   "source": [
    "linP_model_mnu03=fit_linP.LinearPowerModel(cosmo=cosmo_mnu03,z_star=z_star,k_units='kms',kp=kp_kms)\n",
    "params_mnu03=linP_model_mnu03.get_params()\n",
    "print('Lya parameters for massive cosmology',params_mnu03)"
   ]
  },
  {
   "cell_type": "markdown",
   "metadata": {},
   "source": [
    "### Evaluate marginalised likelihood for these models\n",
    "\n",
    "This is the likelihood that has already been marginalized over nuisance parameters, and is of course, experiment specific. At this point it has lost all information about nuisance parameters, or data points. \n",
    "\n",
    "Here we use a Gaussian approximation to some published likelihoods, and also fake likelihoods for future surveys."
   ]
  },
  {
   "cell_type": "code",
   "execution_count": 6,
   "metadata": {
    "collapsed": false
   },
   "outputs": [
    {
     "name": "stdout",
     "output_type": "stream",
     "text": [
      "mnu=0eV, chi2= 36.45025297779785\n",
      "mnu=0.3eV, chi2= 39.1536759323211\n"
     ]
    }
   ],
   "source": [
    "# From Chabanier et al. (2019), Figure 20, we extract a Gaussian likelihood for (Delta2,n_star)\n",
    "print('mnu=0eV, chi2=',marg_lya_like.gaussian_chi2_Chabanier2019(params_mnu0['n_star'],params_mnu0['Delta2_star']))\n",
    "print('mnu=0.3eV, chi2=',marg_lya_like.gaussian_chi2_Chabanier2019(params_mnu03['n_star'],params_mnu03['Delta2_star']))"
   ]
  },
  {
   "cell_type": "code",
   "execution_count": null,
   "metadata": {
    "collapsed": true
   },
   "outputs": [],
   "source": []
  }
 ],
 "metadata": {
  "kernelspec": {
   "display_name": "Python 3",
   "language": "python",
   "name": "python3"
  },
  "language_info": {
   "codemirror_mode": {
    "name": "ipython",
    "version": 3
   },
   "file_extension": ".py",
   "mimetype": "text/x-python",
   "name": "python",
   "nbconvert_exporter": "python",
   "pygments_lexer": "ipython3",
   "version": "3.6.7"
  }
 },
 "nbformat": 4,
 "nbformat_minor": 2
}
